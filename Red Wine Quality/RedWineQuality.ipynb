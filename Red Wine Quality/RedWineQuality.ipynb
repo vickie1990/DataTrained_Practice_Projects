{
 "cells": [
  {
   "cell_type": "markdown",
   "id": "5e48406d",
   "metadata": {},
   "source": [
    "# TOPIC: RED WINE QUALITY"
   ]
  },
  {
   "cell_type": "code",
   "execution_count": 1,
   "id": "2d5f0bd2",
   "metadata": {},
   "outputs": [],
   "source": [
    "import numpy as np\n",
    "import matplotlib.pyplot as plt\n",
    "import seaborn as sns\n",
    "import warnings \n",
    "warnings.filterwarnings('ignore')"
   ]
  },
  {
   "cell_type": "code",
   "execution_count": 2,
   "id": "ec45b95b",
   "metadata": {},
   "outputs": [],
   "source": [
    "import pandas as pd \n",
    "df=pd.read_csv(r'C:\\Users\\hp\\Desktop\\DataTrained\\winequality-red.csv')"
   ]
  },
  {
   "cell_type": "markdown",
   "id": "3a42b7e2",
   "metadata": {},
   "source": [
    "# problem statement:"
   ]
  },
  {
   "cell_type": "markdown",
   "id": "ceccb07c",
   "metadata": {},
   "source": [
    " Use machine learning to determine which physiochemical properties make a wine 'good'!"
   ]
  },
  {
   "cell_type": "markdown",
   "id": "42f480c3",
   "metadata": {},
   "source": [
    "# objective:"
   ]
  },
  {
   "cell_type": "markdown",
   "id": "907d8052",
   "metadata": {},
   "source": [
    "To experiment with different classification methods to see which yields the highest accuracy ---- To determine which features are the most indicative of a good quality wine"
   ]
  },
  {
   "cell_type": "code",
   "execution_count": 3,
   "id": "a4c4e9a2",
   "metadata": {},
   "outputs": [
    {
     "name": "stdout",
     "output_type": "stream",
     "text": [
      "      fixed acidity  volatile acidity  citric acid  residual sugar  chlorides  \\\n",
      "0               7.4             0.700         0.00             1.9      0.076   \n",
      "1               7.8             0.880         0.00             2.6      0.098   \n",
      "2               7.8             0.760         0.04             2.3      0.092   \n",
      "3              11.2             0.280         0.56             1.9      0.075   \n",
      "4               7.4             0.700         0.00             1.9      0.076   \n",
      "...             ...               ...          ...             ...        ...   \n",
      "1594            6.2             0.600         0.08             2.0      0.090   \n",
      "1595            5.9             0.550         0.10             2.2      0.062   \n",
      "1596            6.3             0.510         0.13             2.3      0.076   \n",
      "1597            5.9             0.645         0.12             2.0      0.075   \n",
      "1598            6.0             0.310         0.47             3.6      0.067   \n",
      "\n",
      "      free sulfur dioxide  total sulfur dioxide  density    pH  sulphates  \\\n",
      "0                    11.0                  34.0  0.99780  3.51       0.56   \n",
      "1                    25.0                  67.0  0.99680  3.20       0.68   \n",
      "2                    15.0                  54.0  0.99700  3.26       0.65   \n",
      "3                    17.0                  60.0  0.99800  3.16       0.58   \n",
      "4                    11.0                  34.0  0.99780  3.51       0.56   \n",
      "...                   ...                   ...      ...   ...        ...   \n",
      "1594                 32.0                  44.0  0.99490  3.45       0.58   \n",
      "1595                 39.0                  51.0  0.99512  3.52       0.76   \n",
      "1596                 29.0                  40.0  0.99574  3.42       0.75   \n",
      "1597                 32.0                  44.0  0.99547  3.57       0.71   \n",
      "1598                 18.0                  42.0  0.99549  3.39       0.66   \n",
      "\n",
      "      alcohol  quality  \n",
      "0         9.4        5  \n",
      "1         9.8        5  \n",
      "2         9.8        5  \n",
      "3         9.8        6  \n",
      "4         9.4        5  \n",
      "...       ...      ...  \n",
      "1594     10.5        5  \n",
      "1595     11.2        6  \n",
      "1596     11.0        6  \n",
      "1597     10.2        5  \n",
      "1598     11.0        6  \n",
      "\n",
      "[1599 rows x 12 columns]\n"
     ]
    }
   ],
   "source": [
    "print (df)"
   ]
  },
  {
   "cell_type": "code",
   "execution_count": 4,
   "id": "5593bcb5",
   "metadata": {},
   "outputs": [
    {
     "data": {
      "text/html": [
       "<div>\n",
       "<style scoped>\n",
       "    .dataframe tbody tr th:only-of-type {\n",
       "        vertical-align: middle;\n",
       "    }\n",
       "\n",
       "    .dataframe tbody tr th {\n",
       "        vertical-align: top;\n",
       "    }\n",
       "\n",
       "    .dataframe thead th {\n",
       "        text-align: right;\n",
       "    }\n",
       "</style>\n",
       "<table border=\"1\" class=\"dataframe\">\n",
       "  <thead>\n",
       "    <tr style=\"text-align: right;\">\n",
       "      <th></th>\n",
       "      <th>fixed acidity</th>\n",
       "      <th>volatile acidity</th>\n",
       "      <th>citric acid</th>\n",
       "      <th>residual sugar</th>\n",
       "      <th>chlorides</th>\n",
       "      <th>free sulfur dioxide</th>\n",
       "      <th>total sulfur dioxide</th>\n",
       "      <th>density</th>\n",
       "      <th>pH</th>\n",
       "      <th>sulphates</th>\n",
       "      <th>alcohol</th>\n",
       "      <th>quality</th>\n",
       "    </tr>\n",
       "  </thead>\n",
       "  <tbody>\n",
       "    <tr>\n",
       "      <th>count</th>\n",
       "      <td>1599.000000</td>\n",
       "      <td>1599.000000</td>\n",
       "      <td>1599.000000</td>\n",
       "      <td>1599.000000</td>\n",
       "      <td>1599.000000</td>\n",
       "      <td>1599.000000</td>\n",
       "      <td>1599.000000</td>\n",
       "      <td>1599.000000</td>\n",
       "      <td>1599.000000</td>\n",
       "      <td>1599.000000</td>\n",
       "      <td>1599.000000</td>\n",
       "      <td>1599.000000</td>\n",
       "    </tr>\n",
       "    <tr>\n",
       "      <th>mean</th>\n",
       "      <td>8.319637</td>\n",
       "      <td>0.527821</td>\n",
       "      <td>0.270976</td>\n",
       "      <td>2.538806</td>\n",
       "      <td>0.087467</td>\n",
       "      <td>15.874922</td>\n",
       "      <td>46.467792</td>\n",
       "      <td>0.996747</td>\n",
       "      <td>3.311113</td>\n",
       "      <td>0.658149</td>\n",
       "      <td>10.422983</td>\n",
       "      <td>5.636023</td>\n",
       "    </tr>\n",
       "    <tr>\n",
       "      <th>std</th>\n",
       "      <td>1.741096</td>\n",
       "      <td>0.179060</td>\n",
       "      <td>0.194801</td>\n",
       "      <td>1.409928</td>\n",
       "      <td>0.047065</td>\n",
       "      <td>10.460157</td>\n",
       "      <td>32.895324</td>\n",
       "      <td>0.001887</td>\n",
       "      <td>0.154386</td>\n",
       "      <td>0.169507</td>\n",
       "      <td>1.065668</td>\n",
       "      <td>0.807569</td>\n",
       "    </tr>\n",
       "    <tr>\n",
       "      <th>min</th>\n",
       "      <td>4.600000</td>\n",
       "      <td>0.120000</td>\n",
       "      <td>0.000000</td>\n",
       "      <td>0.900000</td>\n",
       "      <td>0.012000</td>\n",
       "      <td>1.000000</td>\n",
       "      <td>6.000000</td>\n",
       "      <td>0.990070</td>\n",
       "      <td>2.740000</td>\n",
       "      <td>0.330000</td>\n",
       "      <td>8.400000</td>\n",
       "      <td>3.000000</td>\n",
       "    </tr>\n",
       "    <tr>\n",
       "      <th>25%</th>\n",
       "      <td>7.100000</td>\n",
       "      <td>0.390000</td>\n",
       "      <td>0.090000</td>\n",
       "      <td>1.900000</td>\n",
       "      <td>0.070000</td>\n",
       "      <td>7.000000</td>\n",
       "      <td>22.000000</td>\n",
       "      <td>0.995600</td>\n",
       "      <td>3.210000</td>\n",
       "      <td>0.550000</td>\n",
       "      <td>9.500000</td>\n",
       "      <td>5.000000</td>\n",
       "    </tr>\n",
       "    <tr>\n",
       "      <th>50%</th>\n",
       "      <td>7.900000</td>\n",
       "      <td>0.520000</td>\n",
       "      <td>0.260000</td>\n",
       "      <td>2.200000</td>\n",
       "      <td>0.079000</td>\n",
       "      <td>14.000000</td>\n",
       "      <td>38.000000</td>\n",
       "      <td>0.996750</td>\n",
       "      <td>3.310000</td>\n",
       "      <td>0.620000</td>\n",
       "      <td>10.200000</td>\n",
       "      <td>6.000000</td>\n",
       "    </tr>\n",
       "    <tr>\n",
       "      <th>75%</th>\n",
       "      <td>9.200000</td>\n",
       "      <td>0.640000</td>\n",
       "      <td>0.420000</td>\n",
       "      <td>2.600000</td>\n",
       "      <td>0.090000</td>\n",
       "      <td>21.000000</td>\n",
       "      <td>62.000000</td>\n",
       "      <td>0.997835</td>\n",
       "      <td>3.400000</td>\n",
       "      <td>0.730000</td>\n",
       "      <td>11.100000</td>\n",
       "      <td>6.000000</td>\n",
       "    </tr>\n",
       "    <tr>\n",
       "      <th>max</th>\n",
       "      <td>15.900000</td>\n",
       "      <td>1.580000</td>\n",
       "      <td>1.000000</td>\n",
       "      <td>15.500000</td>\n",
       "      <td>0.611000</td>\n",
       "      <td>72.000000</td>\n",
       "      <td>289.000000</td>\n",
       "      <td>1.003690</td>\n",
       "      <td>4.010000</td>\n",
       "      <td>2.000000</td>\n",
       "      <td>14.900000</td>\n",
       "      <td>8.000000</td>\n",
       "    </tr>\n",
       "  </tbody>\n",
       "</table>\n",
       "</div>"
      ],
      "text/plain": [
       "       fixed acidity  volatile acidity  citric acid  residual sugar  \\\n",
       "count    1599.000000       1599.000000  1599.000000     1599.000000   \n",
       "mean        8.319637          0.527821     0.270976        2.538806   \n",
       "std         1.741096          0.179060     0.194801        1.409928   \n",
       "min         4.600000          0.120000     0.000000        0.900000   \n",
       "25%         7.100000          0.390000     0.090000        1.900000   \n",
       "50%         7.900000          0.520000     0.260000        2.200000   \n",
       "75%         9.200000          0.640000     0.420000        2.600000   \n",
       "max        15.900000          1.580000     1.000000       15.500000   \n",
       "\n",
       "         chlorides  free sulfur dioxide  total sulfur dioxide      density  \\\n",
       "count  1599.000000          1599.000000           1599.000000  1599.000000   \n",
       "mean      0.087467            15.874922             46.467792     0.996747   \n",
       "std       0.047065            10.460157             32.895324     0.001887   \n",
       "min       0.012000             1.000000              6.000000     0.990070   \n",
       "25%       0.070000             7.000000             22.000000     0.995600   \n",
       "50%       0.079000            14.000000             38.000000     0.996750   \n",
       "75%       0.090000            21.000000             62.000000     0.997835   \n",
       "max       0.611000            72.000000            289.000000     1.003690   \n",
       "\n",
       "                pH    sulphates      alcohol      quality  \n",
       "count  1599.000000  1599.000000  1599.000000  1599.000000  \n",
       "mean      3.311113     0.658149    10.422983     5.636023  \n",
       "std       0.154386     0.169507     1.065668     0.807569  \n",
       "min       2.740000     0.330000     8.400000     3.000000  \n",
       "25%       3.210000     0.550000     9.500000     5.000000  \n",
       "50%       3.310000     0.620000    10.200000     6.000000  \n",
       "75%       3.400000     0.730000    11.100000     6.000000  \n",
       "max       4.010000     2.000000    14.900000     8.000000  "
      ]
     },
     "execution_count": 4,
     "metadata": {},
     "output_type": "execute_result"
    }
   ],
   "source": [
    "df.describe()"
   ]
  },
  {
   "cell_type": "code",
   "execution_count": 5,
   "id": "c03e1b4f",
   "metadata": {},
   "outputs": [
    {
     "data": {
      "text/plain": [
       "fixed acidity           0\n",
       "volatile acidity        0\n",
       "citric acid             0\n",
       "residual sugar          0\n",
       "chlorides               0\n",
       "free sulfur dioxide     0\n",
       "total sulfur dioxide    0\n",
       "density                 0\n",
       "pH                      0\n",
       "sulphates               0\n",
       "alcohol                 0\n",
       "quality                 0\n",
       "dtype: int64"
      ]
     },
     "execution_count": 5,
     "metadata": {},
     "output_type": "execute_result"
    }
   ],
   "source": [
    "df.isnull().sum()"
   ]
  },
  {
   "cell_type": "code",
   "execution_count": 6,
   "id": "63549b87",
   "metadata": {},
   "outputs": [
    {
     "data": {
      "image/png": "[encoded data removed]",
      "text/plain": [
       "<Figure size 640x480 with 2 Axes>"
      ]
     },
     "metadata": {},
     "output_type": "display_data"
    }
   ],
   "source": [
    "sns.heatmap(df.isnull())\n",
    "plt.title ('null values')\n",
    "plt.show()"
   ]
  },
  {
   "cell_type": "code",
   "execution_count": 7,
   "id": "d00f3c83",
   "metadata": {},
   "outputs": [
    {
     "data": {
      "text/plain": [
       "5    681\n",
       "6    638\n",
       "7    199\n",
       "4     53\n",
       "8     18\n",
       "3     10\n",
       "Name: quality, dtype: int64"
      ]
     },
     "execution_count": 7,
     "metadata": {},
     "output_type": "execute_result"
    }
   ],
   "source": [
    "df.quality.value_counts()"
   ]
  },
  {
   "cell_type": "code",
   "execution_count": 8,
   "id": "e12551f5",
   "metadata": {},
   "outputs": [
    {
     "data": {
      "text/plain": [
       "1    855\n",
       "0    744\n",
       "Name: quality, dtype: int64"
      ]
     },
     "execution_count": 8,
     "metadata": {},
     "output_type": "execute_result"
    }
   ],
   "source": [
    "wine=df.replace({'quality':{3:0,4:0,5:0,6:1,7:1,8:1}})\n",
    "wine.quality.value_counts()"
   ]
  },
  {
   "cell_type": "code",
   "execution_count": 9,
   "id": "13d7b2fe",
   "metadata": {},
   "outputs": [
    {
     "data": {
      "image/png": "[encoded data removed]",
      "text/plain": [
       "<Figure size 640x480 with 1 Axes>"
      ]
     },
     "metadata": {},
     "output_type": "display_data"
    }
   ],
   "source": [
    "wine['quality'].hist(grid=False)\n",
    "plt.title('good vs bad')\n",
    "plt.show()"
   ]
  },
  {
   "cell_type": "code",
   "execution_count": 10,
   "id": "6c1d132f",
   "metadata": {},
   "outputs": [
    {
     "data": {
      "text/html": [
       "<div>\n",
       "<style scoped>\n",
       "    .dataframe tbody tr th:only-of-type {\n",
       "        vertical-align: middle;\n",
       "    }\n",
       "\n",
       "    .dataframe tbody tr th {\n",
       "        vertical-align: top;\n",
       "    }\n",
       "\n",
       "    .dataframe thead th {\n",
       "        text-align: right;\n",
       "    }\n",
       "</style>\n",
       "<table border=\"1\" class=\"dataframe\">\n",
       "  <thead>\n",
       "    <tr style=\"text-align: right;\">\n",
       "      <th></th>\n",
       "      <th>fixed acidity</th>\n",
       "      <th>volatile acidity</th>\n",
       "      <th>citric acid</th>\n",
       "      <th>residual sugar</th>\n",
       "      <th>chlorides</th>\n",
       "      <th>free sulfur dioxide</th>\n",
       "      <th>total sulfur dioxide</th>\n",
       "      <th>density</th>\n",
       "      <th>pH</th>\n",
       "      <th>sulphates</th>\n",
       "      <th>alcohol</th>\n",
       "      <th>quality</th>\n",
       "    </tr>\n",
       "  </thead>\n",
       "  <tbody>\n",
       "    <tr>\n",
       "      <th>fixed acidity</th>\n",
       "      <td>1.000000</td>\n",
       "      <td>-0.256131</td>\n",
       "      <td>0.671703</td>\n",
       "      <td>0.114777</td>\n",
       "      <td>0.093705</td>\n",
       "      <td>-0.153794</td>\n",
       "      <td>-0.113181</td>\n",
       "      <td>0.668047</td>\n",
       "      <td>-0.682978</td>\n",
       "      <td>0.183006</td>\n",
       "      <td>-0.061668</td>\n",
       "      <td>0.095093</td>\n",
       "    </tr>\n",
       "    <tr>\n",
       "      <th>volatile acidity</th>\n",
       "      <td>-0.256131</td>\n",
       "      <td>1.000000</td>\n",
       "      <td>-0.552496</td>\n",
       "      <td>0.001918</td>\n",
       "      <td>0.061298</td>\n",
       "      <td>-0.010504</td>\n",
       "      <td>0.076470</td>\n",
       "      <td>0.022026</td>\n",
       "      <td>0.234937</td>\n",
       "      <td>-0.260987</td>\n",
       "      <td>-0.202288</td>\n",
       "      <td>-0.321441</td>\n",
       "    </tr>\n",
       "    <tr>\n",
       "      <th>citric acid</th>\n",
       "      <td>0.671703</td>\n",
       "      <td>-0.552496</td>\n",
       "      <td>1.000000</td>\n",
       "      <td>0.143577</td>\n",
       "      <td>0.203823</td>\n",
       "      <td>-0.060978</td>\n",
       "      <td>0.035533</td>\n",
       "      <td>0.364947</td>\n",
       "      <td>-0.541904</td>\n",
       "      <td>0.312770</td>\n",
       "      <td>0.109903</td>\n",
       "      <td>0.159129</td>\n",
       "    </tr>\n",
       "    <tr>\n",
       "      <th>residual sugar</th>\n",
       "      <td>0.114777</td>\n",
       "      <td>0.001918</td>\n",
       "      <td>0.143577</td>\n",
       "      <td>1.000000</td>\n",
       "      <td>0.055610</td>\n",
       "      <td>0.187049</td>\n",
       "      <td>0.203028</td>\n",
       "      <td>0.355283</td>\n",
       "      <td>-0.085652</td>\n",
       "      <td>0.005527</td>\n",
       "      <td>0.042075</td>\n",
       "      <td>-0.002160</td>\n",
       "    </tr>\n",
       "    <tr>\n",
       "      <th>chlorides</th>\n",
       "      <td>0.093705</td>\n",
       "      <td>0.061298</td>\n",
       "      <td>0.203823</td>\n",
       "      <td>0.055610</td>\n",
       "      <td>1.000000</td>\n",
       "      <td>0.005562</td>\n",
       "      <td>0.047400</td>\n",
       "      <td>0.200632</td>\n",
       "      <td>-0.265026</td>\n",
       "      <td>0.371260</td>\n",
       "      <td>-0.221141</td>\n",
       "      <td>-0.109494</td>\n",
       "    </tr>\n",
       "    <tr>\n",
       "      <th>free sulfur dioxide</th>\n",
       "      <td>-0.153794</td>\n",
       "      <td>-0.010504</td>\n",
       "      <td>-0.060978</td>\n",
       "      <td>0.187049</td>\n",
       "      <td>0.005562</td>\n",
       "      <td>1.000000</td>\n",
       "      <td>0.667666</td>\n",
       "      <td>-0.021946</td>\n",
       "      <td>0.070377</td>\n",
       "      <td>0.051658</td>\n",
       "      <td>-0.069408</td>\n",
       "      <td>-0.061757</td>\n",
       "    </tr>\n",
       "    <tr>\n",
       "      <th>total sulfur dioxide</th>\n",
       "      <td>-0.113181</td>\n",
       "      <td>0.076470</td>\n",
       "      <td>0.035533</td>\n",
       "      <td>0.203028</td>\n",
       "      <td>0.047400</td>\n",
       "      <td>0.667666</td>\n",
       "      <td>1.000000</td>\n",
       "      <td>0.071269</td>\n",
       "      <td>-0.066495</td>\n",
       "      <td>0.042947</td>\n",
       "      <td>-0.205654</td>\n",
       "      <td>-0.231963</td>\n",
       "    </tr>\n",
       "    <tr>\n",
       "      <th>density</th>\n",
       "      <td>0.668047</td>\n",
       "      <td>0.022026</td>\n",
       "      <td>0.364947</td>\n",
       "      <td>0.355283</td>\n",
       "      <td>0.200632</td>\n",
       "      <td>-0.021946</td>\n",
       "      <td>0.071269</td>\n",
       "      <td>1.000000</td>\n",
       "      <td>-0.341699</td>\n",
       "      <td>0.148506</td>\n",
       "      <td>-0.496180</td>\n",
       "      <td>-0.159110</td>\n",
       "    </tr>\n",
       "    <tr>\n",
       "      <th>pH</th>\n",
       "      <td>-0.682978</td>\n",
       "      <td>0.234937</td>\n",
       "      <td>-0.541904</td>\n",
       "      <td>-0.085652</td>\n",
       "      <td>-0.265026</td>\n",
       "      <td>0.070377</td>\n",
       "      <td>-0.066495</td>\n",
       "      <td>-0.341699</td>\n",
       "      <td>1.000000</td>\n",
       "      <td>-0.196648</td>\n",
       "      <td>0.205633</td>\n",
       "      <td>-0.003264</td>\n",
       "    </tr>\n",
       "    <tr>\n",
       "      <th>sulphates</th>\n",
       "      <td>0.183006</td>\n",
       "      <td>-0.260987</td>\n",
       "      <td>0.312770</td>\n",
       "      <td>0.005527</td>\n",
       "      <td>0.371260</td>\n",
       "      <td>0.051658</td>\n",
       "      <td>0.042947</td>\n",
       "      <td>0.148506</td>\n",
       "      <td>-0.196648</td>\n",
       "      <td>1.000000</td>\n",
       "      <td>0.093595</td>\n",
       "      <td>0.218072</td>\n",
       "    </tr>\n",
       "    <tr>\n",
       "      <th>alcohol</th>\n",
       "      <td>-0.061668</td>\n",
       "      <td>-0.202288</td>\n",
       "      <td>0.109903</td>\n",
       "      <td>0.042075</td>\n",
       "      <td>-0.221141</td>\n",
       "      <td>-0.069408</td>\n",
       "      <td>-0.205654</td>\n",
       "      <td>-0.496180</td>\n",
       "      <td>0.205633</td>\n",
       "      <td>0.093595</td>\n",
       "      <td>1.000000</td>\n",
       "      <td>0.434751</td>\n",
       "    </tr>\n",
       "    <tr>\n",
       "      <th>quality</th>\n",
       "      <td>0.095093</td>\n",
       "      <td>-0.321441</td>\n",
       "      <td>0.159129</td>\n",
       "      <td>-0.002160</td>\n",
       "      <td>-0.109494</td>\n",
       "      <td>-0.061757</td>\n",
       "      <td>-0.231963</td>\n",
       "      <td>-0.159110</td>\n",
       "      <td>-0.003264</td>\n",
       "      <td>0.218072</td>\n",
       "      <td>0.434751</td>\n",
       "      <td>1.000000</td>\n",
       "    </tr>\n",
       "  </tbody>\n",
       "</table>\n",
       "</div>"
      ],
      "text/plain": [
       "                      fixed acidity  volatile acidity  citric acid  \\\n",
       "fixed acidity              1.000000         -0.256131     0.671703   \n",
       "volatile acidity          -0.256131          1.000000    -0.552496   \n",
       "citric acid                0.671703         -0.552496     1.000000   \n",
       "residual sugar             0.114777          0.001918     0.143577   \n",
       "chlorides                  0.093705          0.061298     0.203823   \n",
       "free sulfur dioxide       -0.153794         -0.010504    -0.060978   \n",
       "total sulfur dioxide      -0.113181          0.076470     0.035533   \n",
       "density                    0.668047          0.022026     0.364947   \n",
       "pH                        -0.682978          0.234937    -0.541904   \n",
       "sulphates                  0.183006         -0.260987     0.312770   \n",
       "alcohol                   -0.061668         -0.202288     0.109903   \n",
       "quality                    0.095093         -0.321441     0.159129   \n",
       "\n",
       "                      residual sugar  chlorides  free sulfur dioxide  \\\n",
       "fixed acidity               0.114777   0.093705            -0.153794   \n",
       "volatile acidity            0.001918   0.061298            -0.010504   \n",
       "citric acid                 0.143577   0.203823            -0.060978   \n",
       "residual sugar              1.000000   0.055610             0.187049   \n",
       "chlorides                   0.055610   1.000000             0.005562   \n",
       "free sulfur dioxide         0.187049   0.005562             1.000000   \n",
       "total sulfur dioxide        0.203028   0.047400             0.667666   \n",
       "density                     0.355283   0.200632            -0.021946   \n",
       "pH                         -0.085652  -0.265026             0.070377   \n",
       "sulphates                   0.005527   0.371260             0.051658   \n",
       "alcohol                     0.042075  -0.221141            -0.069408   \n",
       "quality                    -0.002160  -0.109494            -0.061757   \n",
       "\n",
       "                      total sulfur dioxide   density        pH  sulphates  \\\n",
       "fixed acidity                    -0.113181  0.668047 -0.682978   0.183006   \n",
       "volatile acidity                  0.076470  0.022026  0.234937  -0.260987   \n",
       "citric acid                       0.035533  0.364947 -0.541904   0.312770   \n",
       "residual sugar                    0.203028  0.355283 -0.085652   0.005527   \n",
       "chlorides                         0.047400  0.200632 -0.265026   0.371260   \n",
       "free sulfur dioxide               0.667666 -0.021946  0.070377   0.051658   \n",
       "total sulfur dioxide              1.000000  0.071269 -0.066495   0.042947   \n",
       "density                           0.071269  1.000000 -0.341699   0.148506   \n",
       "pH                               -0.066495 -0.341699  1.000000  -0.196648   \n",
       "sulphates                         0.042947  0.148506 -0.196648   1.000000   \n",
       "alcohol                          -0.205654 -0.496180  0.205633   0.093595   \n",
       "quality                          -0.231963 -0.159110 -0.003264   0.218072   \n",
       "\n",
       "                       alcohol   quality  \n",
       "fixed acidity        -0.061668  0.095093  \n",
       "volatile acidity     -0.202288 -0.321441  \n",
       "citric acid           0.109903  0.159129  \n",
       "residual sugar        0.042075 -0.002160  \n",
       "chlorides            -0.221141 -0.109494  \n",
       "free sulfur dioxide  -0.069408 -0.061757  \n",
       "total sulfur dioxide -0.205654 -0.231963  \n",
       "density              -0.496180 -0.159110  \n",
       "pH                    0.205633 -0.003264  \n",
       "sulphates             0.093595  0.218072  \n",
       "alcohol               1.000000  0.434751  \n",
       "quality               0.434751  1.000000  "
      ]
     },
     "execution_count": 10,
     "metadata": {},
     "output_type": "execute_result"
    }
   ],
   "source": [
    "wine.corr()"
   ]
  },
  {
   "cell_type": "code",
   "execution_count": 11,
   "id": "ac4d9ad0",
   "metadata": {},
   "outputs": [
    {
     "data": {
      "image/png": "[encoded data removed]",
      "text/plain": [
       "<Figure size 640x480 with 2 Axes>"
      ]
     },
     "metadata": {},
     "output_type": "display_data"
    }
   ],
   "source": [
    "corr_mat=wine.corr()\n",
    "plt.figure()\n",
    "sns.heatmap(corr_mat,annot=True)\n",
    "plt.title('correlation_matrix')\n",
    "plt.show()"
   ]
  },
  {
   "cell_type": "code",
   "execution_count": 12,
   "id": "6599e069",
   "metadata": {},
   "outputs": [
    {
     "data": {
      "text/plain": [
       "pandas.core.frame.DataFrame"
      ]
     },
     "execution_count": 12,
     "metadata": {},
     "output_type": "execute_result"
    }
   ],
   "source": [
    "type(corr_mat)"
   ]
  },
  {
   "cell_type": "code",
   "execution_count": 13,
   "id": "7b498a85",
   "metadata": {},
   "outputs": [
    {
     "data": {
      "text/plain": [
       "quality                 1.000000\n",
       "alcohol                 0.434751\n",
       "sulphates               0.218072\n",
       "citric acid             0.159129\n",
       "fixed acidity           0.095093\n",
       "residual sugar         -0.002160\n",
       "pH                     -0.003264\n",
       "free sulfur dioxide    -0.061757\n",
       "chlorides              -0.109494\n",
       "density                -0.159110\n",
       "total sulfur dioxide   -0.231963\n",
       "volatile acidity       -0.321441\n",
       "Name: quality, dtype: float64"
      ]
     },
     "execution_count": 13,
     "metadata": {},
     "output_type": "execute_result"
    }
   ],
   "source": [
    "corr_matrix=wine.corr()\n",
    "corr_matrix['quality'].sort_values(ascending=False)"
   ]
  },
  {
   "cell_type": "code",
   "execution_count": 14,
   "id": "2b81faee",
   "metadata": {},
   "outputs": [
    {
     "data": {
      "image/png": "[encoded data removed]",
      "text/plain": [
       "<Figure size 1800x1200 with 36 Axes>"
      ]
     },
     "metadata": {},
     "output_type": "display_data"
    }
   ],
   "source": [
    "df.plot(kind='density',subplots=True,layout=(6,6),sharex=False,legend=False, fontsize=1,figsize=(18,12))\n",
    "plt.show()"
   ]
  },
  {
   "cell_type": "code",
   "execution_count": 15,
   "id": "5354cea9",
   "metadata": {},
   "outputs": [],
   "source": [
    "x=wine.drop(\"quality\",axis=1)\n",
    "y=wine[\"quality\"]"
   ]
  },
  {
   "cell_type": "code",
   "execution_count": 16,
   "id": "fbf56ebd",
   "metadata": {},
   "outputs": [
    {
     "data": {
      "text/plain": [
       "chlorides               5.680347\n",
       "residual sugar          4.540655\n",
       "sulphates               2.428672\n",
       "total sulfur dioxide    1.515531\n",
       "free sulfur dioxide     1.250567\n",
       "fixed acidity           0.982751\n",
       "alcohol                 0.860829\n",
       "volatile acidity        0.671593\n",
       "citric acid             0.318337\n",
       "pH                      0.193683\n",
       "density                 0.071288\n",
       "dtype: float64"
      ]
     },
     "execution_count": 16,
     "metadata": {},
     "output_type": "execute_result"
    }
   ],
   "source": [
    "x.skew().sort_values(ascending=False)"
   ]
  },
  {
   "cell_type": "code",
   "execution_count": 17,
   "id": "42835397",
   "metadata": {},
   "outputs": [],
   "source": [
    "from sklearn.preprocessing import power_transform\n",
    "x_new=power_transform(x)"
   ]
  },
  {
   "cell_type": "code",
   "execution_count": 18,
   "id": "00ac3fc1",
   "metadata": {},
   "outputs": [
    {
     "data": {
      "text/plain": [
       "numpy.ndarray"
      ]
     },
     "execution_count": 18,
     "metadata": {},
     "output_type": "execute_result"
    }
   ],
   "source": [
    "type(x_new)"
   ]
  },
  {
   "cell_type": "code",
   "execution_count": 19,
   "id": "695eabbd",
   "metadata": {},
   "outputs": [],
   "source": [
    "x=pd.DataFrame(x_new,columns=x.columns)"
   ]
  },
  {
   "cell_type": "code",
   "execution_count": 20,
   "id": "14b4b0d3",
   "metadata": {},
   "outputs": [
    {
     "data": {
      "text/html": [
       "<div>\n",
       "<style scoped>\n",
       "    .dataframe tbody tr th:only-of-type {\n",
       "        vertical-align: middle;\n",
       "    }\n",
       "\n",
       "    .dataframe tbody tr th {\n",
       "        vertical-align: top;\n",
       "    }\n",
       "\n",
       "    .dataframe thead th {\n",
       "        text-align: right;\n",
       "    }\n",
       "</style>\n",
       "<table border=\"1\" class=\"dataframe\">\n",
       "  <thead>\n",
       "    <tr style=\"text-align: right;\">\n",
       "      <th></th>\n",
       "      <th>fixed acidity</th>\n",
       "      <th>volatile acidity</th>\n",
       "      <th>citric acid</th>\n",
       "      <th>residual sugar</th>\n",
       "      <th>chlorides</th>\n",
       "      <th>free sulfur dioxide</th>\n",
       "      <th>total sulfur dioxide</th>\n",
       "      <th>density</th>\n",
       "      <th>pH</th>\n",
       "      <th>sulphates</th>\n",
       "      <th>alcohol</th>\n",
       "    </tr>\n",
       "  </thead>\n",
       "  <tbody>\n",
       "    <tr>\n",
       "      <th>0</th>\n",
       "      <td>-0.442666</td>\n",
       "      <td>0.995542</td>\n",
       "      <td>-1.531109</td>\n",
       "      <td>-0.597145</td>\n",
       "      <td>-0.172896</td>\n",
       "      <td>-0.268045</td>\n",
       "      <td>-0.124411</td>\n",
       "      <td>0.564442</td>\n",
       "      <td>1.275690</td>\n",
       "      <td>-0.581650</td>\n",
       "      <td>-1.075025</td>\n",
       "    </tr>\n",
       "    <tr>\n",
       "      <th>1</th>\n",
       "      <td>-0.161308</td>\n",
       "      <td>1.771299</td>\n",
       "      <td>-1.531109</td>\n",
       "      <td>0.556565</td>\n",
       "      <td>0.786204</td>\n",
       "      <td>0.993852</td>\n",
       "      <td>0.854954</td>\n",
       "      <td>0.036967</td>\n",
       "      <td>-0.709517</td>\n",
       "      <td>0.395140</td>\n",
       "      <td>-0.500860</td>\n",
       "    </tr>\n",
       "    <tr>\n",
       "      <th>2</th>\n",
       "      <td>-0.161308</td>\n",
       "      <td>1.269801</td>\n",
       "      <td>-1.255359</td>\n",
       "      <td>0.152372</td>\n",
       "      <td>0.560696</td>\n",
       "      <td>0.193450</td>\n",
       "      <td>0.540394</td>\n",
       "      <td>0.142851</td>\n",
       "      <td>-0.310054</td>\n",
       "      <td>0.183772</td>\n",
       "      <td>-0.500860</td>\n",
       "    </tr>\n",
       "    <tr>\n",
       "      <th>3</th>\n",
       "      <td>1.522582</td>\n",
       "      <td>-1.550050</td>\n",
       "      <td>1.398471</td>\n",
       "      <td>-0.597145</td>\n",
       "      <td>-0.226113</td>\n",
       "      <td>0.385115</td>\n",
       "      <td>0.693699</td>\n",
       "      <td>0.669354</td>\n",
       "      <td>-0.980154</td>\n",
       "      <td>-0.392318</td>\n",
       "      <td>-0.500860</td>\n",
       "    </tr>\n",
       "    <tr>\n",
       "      <th>4</th>\n",
       "      <td>-0.442666</td>\n",
       "      <td>0.995542</td>\n",
       "      <td>-1.531109</td>\n",
       "      <td>-0.597145</td>\n",
       "      <td>-0.172896</td>\n",
       "      <td>-0.268045</td>\n",
       "      <td>-0.124411</td>\n",
       "      <td>0.564442</td>\n",
       "      <td>1.275690</td>\n",
       "      <td>-0.581650</td>\n",
       "      <td>-1.075025</td>\n",
       "    </tr>\n",
       "    <tr>\n",
       "      <th>...</th>\n",
       "      <td>...</td>\n",
       "      <td>...</td>\n",
       "      <td>...</td>\n",
       "      <td>...</td>\n",
       "      <td>...</td>\n",
       "      <td>...</td>\n",
       "      <td>...</td>\n",
       "      <td>...</td>\n",
       "      <td>...</td>\n",
       "      <td>...</td>\n",
       "      <td>...</td>\n",
       "    </tr>\n",
       "    <tr>\n",
       "      <th>1594</th>\n",
       "      <td>-1.461202</td>\n",
       "      <td>0.497996</td>\n",
       "      <td>-0.993315</td>\n",
       "      <td>-0.380998</td>\n",
       "      <td>0.480036</td>\n",
       "      <td>1.397043</td>\n",
       "      <td>0.244351</td>\n",
       "      <td>-0.978746</td>\n",
       "      <td>0.906172</td>\n",
       "      <td>-0.392318</td>\n",
       "      <td>0.292864</td>\n",
       "    </tr>\n",
       "    <tr>\n",
       "      <th>1595</th>\n",
       "      <td>-1.767458</td>\n",
       "      <td>0.227895</td>\n",
       "      <td>-0.867068</td>\n",
       "      <td>-0.008632</td>\n",
       "      <td>-1.013159</td>\n",
       "      <td>1.727353</td>\n",
       "      <td>0.457504</td>\n",
       "      <td>-0.860223</td>\n",
       "      <td>1.336627</td>\n",
       "      <td>0.874884</td>\n",
       "      <td>0.888124</td>\n",
       "    </tr>\n",
       "    <tr>\n",
       "      <th>1596</th>\n",
       "      <td>-1.364367</td>\n",
       "      <td>0.000387</td>\n",
       "      <td>-0.683294</td>\n",
       "      <td>0.152372</td>\n",
       "      <td>-0.172896</td>\n",
       "      <td>1.235044</td>\n",
       "      <td>0.107498</td>\n",
       "      <td>-0.527497</td>\n",
       "      <td>0.718869</td>\n",
       "      <td>0.820841</td>\n",
       "      <td>0.734558</td>\n",
       "    </tr>\n",
       "    <tr>\n",
       "      <th>1597</th>\n",
       "      <td>-1.767458</td>\n",
       "      <td>0.728553</td>\n",
       "      <td>-0.743826</td>\n",
       "      <td>-0.380998</td>\n",
       "      <td>-0.226113</td>\n",
       "      <td>1.397043</td>\n",
       "      <td>0.244351</td>\n",
       "      <td>-0.672160</td>\n",
       "      <td>1.638595</td>\n",
       "      <td>0.588344</td>\n",
       "      <td>-0.018800</td>\n",
       "    </tr>\n",
       "    <tr>\n",
       "      <th>1598</th>\n",
       "      <td>-1.662640</td>\n",
       "      <td>-1.320458</td>\n",
       "      <td>1.031070</td>\n",
       "      <td>1.375435</td>\n",
       "      <td>-0.688299</td>\n",
       "      <td>0.473632</td>\n",
       "      <td>0.177479</td>\n",
       "      <td>-0.661432</td>\n",
       "      <td>0.529832</td>\n",
       "      <td>0.256369</td>\n",
       "      <td>0.734558</td>\n",
       "    </tr>\n",
       "  </tbody>\n",
       "</table>\n",
       "<p>1599 rows × 11 columns</p>\n",
       "</div>"
      ],
      "text/plain": [
       "      fixed acidity  volatile acidity  citric acid  residual sugar  chlorides  \\\n",
       "0         -0.442666          0.995542    -1.531109       -0.597145  -0.172896   \n",
       "1         -0.161308          1.771299    -1.531109        0.556565   0.786204   \n",
       "2         -0.161308          1.269801    -1.255359        0.152372   0.560696   \n",
       "3          1.522582         -1.550050     1.398471       -0.597145  -0.226113   \n",
       "4         -0.442666          0.995542    -1.531109       -0.597145  -0.172896   \n",
       "...             ...               ...          ...             ...        ...   \n",
       "1594      -1.461202          0.497996    -0.993315       -0.380998   0.480036   \n",
       "1595      -1.767458          0.227895    -0.867068       -0.008632  -1.013159   \n",
       "1596      -1.364367          0.000387    -0.683294        0.152372  -0.172896   \n",
       "1597      -1.767458          0.728553    -0.743826       -0.380998  -0.226113   \n",
       "1598      -1.662640         -1.320458     1.031070        1.375435  -0.688299   \n",
       "\n",
       "      free sulfur dioxide  total sulfur dioxide   density        pH  \\\n",
       "0               -0.268045             -0.124411  0.564442  1.275690   \n",
       "1                0.993852              0.854954  0.036967 -0.709517   \n",
       "2                0.193450              0.540394  0.142851 -0.310054   \n",
       "3                0.385115              0.693699  0.669354 -0.980154   \n",
       "4               -0.268045             -0.124411  0.564442  1.275690   \n",
       "...                   ...                   ...       ...       ...   \n",
       "1594             1.397043              0.244351 -0.978746  0.906172   \n",
       "1595             1.727353              0.457504 -0.860223  1.336627   \n",
       "1596             1.235044              0.107498 -0.527497  0.718869   \n",
       "1597             1.397043              0.244351 -0.672160  1.638595   \n",
       "1598             0.473632              0.177479 -0.661432  0.529832   \n",
       "\n",
       "      sulphates   alcohol  \n",
       "0     -0.581650 -1.075025  \n",
       "1      0.395140 -0.500860  \n",
       "2      0.183772 -0.500860  \n",
       "3     -0.392318 -0.500860  \n",
       "4     -0.581650 -1.075025  \n",
       "...         ...       ...  \n",
       "1594  -0.392318  0.292864  \n",
       "1595   0.874884  0.888124  \n",
       "1596   0.820841  0.734558  \n",
       "1597   0.588344 -0.018800  \n",
       "1598   0.256369  0.734558  \n",
       "\n",
       "[1599 rows x 11 columns]"
      ]
     },
     "execution_count": 20,
     "metadata": {},
     "output_type": "execute_result"
    }
   ],
   "source": [
    "x"
   ]
  },
  {
   "cell_type": "code",
   "execution_count": 21,
   "id": "61aff86f",
   "metadata": {},
   "outputs": [
    {
     "data": {
      "text/plain": [
       "alcohol                 0.112372\n",
       "citric acid             0.017788\n",
       "sulphates               0.009985\n",
       "volatile acidity        0.003099\n",
       "fixed acidity           0.002529\n",
       "pH                     -0.002823\n",
       "total sulfur dioxide   -0.003752\n",
       "density                -0.005054\n",
       "free sulfur dioxide    -0.009948\n",
       "residual sugar         -0.015715\n",
       "chlorides              -0.151304\n",
       "dtype: float64"
      ]
     },
     "execution_count": 21,
     "metadata": {},
     "output_type": "execute_result"
    }
   ],
   "source": [
    "x.skew().sort_values(ascending=False)"
   ]
  },
  {
   "cell_type": "code",
   "execution_count": 22,
   "id": "e9023ff8",
   "metadata": {},
   "outputs": [],
   "source": [
    "sk=x.skew()"
   ]
  },
  {
   "cell_type": "code",
   "execution_count": 23,
   "id": "f01f4317",
   "metadata": {},
   "outputs": [
    {
     "data": {
      "text/plain": [
       "True"
      ]
     },
     "execution_count": 23,
     "metadata": {},
     "output_type": "execute_result"
    }
   ],
   "source": [
    "sk[np.abs(sk)>0.25].all()"
   ]
  },
  {
   "cell_type": "code",
   "execution_count": 24,
   "id": "283ad794",
   "metadata": {},
   "outputs": [
    {
     "data": {
      "image/png": "[encoded data removed]",
      "text/plain": [
       "<Figure size 2000x800 with 1 Axes>"
      ]
     },
     "metadata": {},
     "output_type": "display_data"
    }
   ],
   "source": [
    "x.iloc[:,0:11].boxplot(figsize=[20,8])\n",
    "plt.subplots_adjust(bottom=0.25)\n",
    "plt.show()"
   ]
  },
  {
   "cell_type": "code",
   "execution_count": 25,
   "id": "37f56dd6",
   "metadata": {},
   "outputs": [
    {
     "data": {
      "text/plain": [
       "fixed acidity           False\n",
       "volatile acidity        False\n",
       "citric acid              True\n",
       "residual sugar          False\n",
       "chlorides               False\n",
       "free sulfur dioxide      True\n",
       "total sulfur dioxide    False\n",
       "density                 False\n",
       "pH                      False\n",
       "sulphates               False\n",
       "alcohol                 False\n",
       "dtype: bool"
      ]
     },
     "execution_count": 25,
     "metadata": {},
     "output_type": "execute_result"
    }
   ],
   "source": [
    "from scipy.stats import zscore\n",
    "(np.abs(zscore(x))<3).all()"
   ]
  },
  {
   "cell_type": "code",
   "execution_count": 26,
   "id": "00b3e481",
   "metadata": {},
   "outputs": [
    {
     "data": {
      "text/html": [
       "<div>\n",
       "<style scoped>\n",
       "    .dataframe tbody tr th:only-of-type {\n",
       "        vertical-align: middle;\n",
       "    }\n",
       "\n",
       "    .dataframe tbody tr th {\n",
       "        vertical-align: top;\n",
       "    }\n",
       "\n",
       "    .dataframe thead th {\n",
       "        text-align: right;\n",
       "    }\n",
       "</style>\n",
       "<table border=\"1\" class=\"dataframe\">\n",
       "  <thead>\n",
       "    <tr style=\"text-align: right;\">\n",
       "      <th></th>\n",
       "      <th>fixed acidity</th>\n",
       "      <th>volatile acidity</th>\n",
       "      <th>citric acid</th>\n",
       "      <th>residual sugar</th>\n",
       "      <th>chlorides</th>\n",
       "      <th>free sulfur dioxide</th>\n",
       "      <th>total sulfur dioxide</th>\n",
       "      <th>density</th>\n",
       "      <th>pH</th>\n",
       "      <th>sulphates</th>\n",
       "      <th>alcohol</th>\n",
       "      <th>quality</th>\n",
       "    </tr>\n",
       "  </thead>\n",
       "  <tbody>\n",
       "    <tr>\n",
       "      <th>0</th>\n",
       "      <td>-0.442666</td>\n",
       "      <td>0.995542</td>\n",
       "      <td>-1.531109</td>\n",
       "      <td>-0.597145</td>\n",
       "      <td>-0.172896</td>\n",
       "      <td>-0.268045</td>\n",
       "      <td>-0.124411</td>\n",
       "      <td>0.564442</td>\n",
       "      <td>1.275690</td>\n",
       "      <td>-0.581650</td>\n",
       "      <td>-1.075025</td>\n",
       "      <td>0</td>\n",
       "    </tr>\n",
       "    <tr>\n",
       "      <th>1</th>\n",
       "      <td>-0.161308</td>\n",
       "      <td>1.771299</td>\n",
       "      <td>-1.531109</td>\n",
       "      <td>0.556565</td>\n",
       "      <td>0.786204</td>\n",
       "      <td>0.993852</td>\n",
       "      <td>0.854954</td>\n",
       "      <td>0.036967</td>\n",
       "      <td>-0.709517</td>\n",
       "      <td>0.395140</td>\n",
       "      <td>-0.500860</td>\n",
       "      <td>0</td>\n",
       "    </tr>\n",
       "    <tr>\n",
       "      <th>2</th>\n",
       "      <td>-0.161308</td>\n",
       "      <td>1.269801</td>\n",
       "      <td>-1.255359</td>\n",
       "      <td>0.152372</td>\n",
       "      <td>0.560696</td>\n",
       "      <td>0.193450</td>\n",
       "      <td>0.540394</td>\n",
       "      <td>0.142851</td>\n",
       "      <td>-0.310054</td>\n",
       "      <td>0.183772</td>\n",
       "      <td>-0.500860</td>\n",
       "      <td>0</td>\n",
       "    </tr>\n",
       "    <tr>\n",
       "      <th>3</th>\n",
       "      <td>1.522582</td>\n",
       "      <td>-1.550050</td>\n",
       "      <td>1.398471</td>\n",
       "      <td>-0.597145</td>\n",
       "      <td>-0.226113</td>\n",
       "      <td>0.385115</td>\n",
       "      <td>0.693699</td>\n",
       "      <td>0.669354</td>\n",
       "      <td>-0.980154</td>\n",
       "      <td>-0.392318</td>\n",
       "      <td>-0.500860</td>\n",
       "      <td>1</td>\n",
       "    </tr>\n",
       "    <tr>\n",
       "      <th>4</th>\n",
       "      <td>-0.442666</td>\n",
       "      <td>0.995542</td>\n",
       "      <td>-1.531109</td>\n",
       "      <td>-0.597145</td>\n",
       "      <td>-0.172896</td>\n",
       "      <td>-0.268045</td>\n",
       "      <td>-0.124411</td>\n",
       "      <td>0.564442</td>\n",
       "      <td>1.275690</td>\n",
       "      <td>-0.581650</td>\n",
       "      <td>-1.075025</td>\n",
       "      <td>0</td>\n",
       "    </tr>\n",
       "    <tr>\n",
       "      <th>...</th>\n",
       "      <td>...</td>\n",
       "      <td>...</td>\n",
       "      <td>...</td>\n",
       "      <td>...</td>\n",
       "      <td>...</td>\n",
       "      <td>...</td>\n",
       "      <td>...</td>\n",
       "      <td>...</td>\n",
       "      <td>...</td>\n",
       "      <td>...</td>\n",
       "      <td>...</td>\n",
       "      <td>...</td>\n",
       "    </tr>\n",
       "    <tr>\n",
       "      <th>1594</th>\n",
       "      <td>-1.461202</td>\n",
       "      <td>0.497996</td>\n",
       "      <td>-0.993315</td>\n",
       "      <td>-0.380998</td>\n",
       "      <td>0.480036</td>\n",
       "      <td>1.397043</td>\n",
       "      <td>0.244351</td>\n",
       "      <td>-0.978746</td>\n",
       "      <td>0.906172</td>\n",
       "      <td>-0.392318</td>\n",
       "      <td>0.292864</td>\n",
       "      <td>0</td>\n",
       "    </tr>\n",
       "    <tr>\n",
       "      <th>1595</th>\n",
       "      <td>-1.767458</td>\n",
       "      <td>0.227895</td>\n",
       "      <td>-0.867068</td>\n",
       "      <td>-0.008632</td>\n",
       "      <td>-1.013159</td>\n",
       "      <td>1.727353</td>\n",
       "      <td>0.457504</td>\n",
       "      <td>-0.860223</td>\n",
       "      <td>1.336627</td>\n",
       "      <td>0.874884</td>\n",
       "      <td>0.888124</td>\n",
       "      <td>1</td>\n",
       "    </tr>\n",
       "    <tr>\n",
       "      <th>1596</th>\n",
       "      <td>-1.364367</td>\n",
       "      <td>0.000387</td>\n",
       "      <td>-0.683294</td>\n",
       "      <td>0.152372</td>\n",
       "      <td>-0.172896</td>\n",
       "      <td>1.235044</td>\n",
       "      <td>0.107498</td>\n",
       "      <td>-0.527497</td>\n",
       "      <td>0.718869</td>\n",
       "      <td>0.820841</td>\n",
       "      <td>0.734558</td>\n",
       "      <td>1</td>\n",
       "    </tr>\n",
       "    <tr>\n",
       "      <th>1597</th>\n",
       "      <td>-1.767458</td>\n",
       "      <td>0.728553</td>\n",
       "      <td>-0.743826</td>\n",
       "      <td>-0.380998</td>\n",
       "      <td>-0.226113</td>\n",
       "      <td>1.397043</td>\n",
       "      <td>0.244351</td>\n",
       "      <td>-0.672160</td>\n",
       "      <td>1.638595</td>\n",
       "      <td>0.588344</td>\n",
       "      <td>-0.018800</td>\n",
       "      <td>0</td>\n",
       "    </tr>\n",
       "    <tr>\n",
       "      <th>1598</th>\n",
       "      <td>-1.662640</td>\n",
       "      <td>-1.320458</td>\n",
       "      <td>1.031070</td>\n",
       "      <td>1.375435</td>\n",
       "      <td>-0.688299</td>\n",
       "      <td>0.473632</td>\n",
       "      <td>0.177479</td>\n",
       "      <td>-0.661432</td>\n",
       "      <td>0.529832</td>\n",
       "      <td>0.256369</td>\n",
       "      <td>0.734558</td>\n",
       "      <td>1</td>\n",
       "    </tr>\n",
       "  </tbody>\n",
       "</table>\n",
       "<p>1599 rows × 12 columns</p>\n",
       "</div>"
      ],
      "text/plain": [
       "      fixed acidity  volatile acidity  citric acid  residual sugar  chlorides  \\\n",
       "0         -0.442666          0.995542    -1.531109       -0.597145  -0.172896   \n",
       "1         -0.161308          1.771299    -1.531109        0.556565   0.786204   \n",
       "2         -0.161308          1.269801    -1.255359        0.152372   0.560696   \n",
       "3          1.522582         -1.550050     1.398471       -0.597145  -0.226113   \n",
       "4         -0.442666          0.995542    -1.531109       -0.597145  -0.172896   \n",
       "...             ...               ...          ...             ...        ...   \n",
       "1594      -1.461202          0.497996    -0.993315       -0.380998   0.480036   \n",
       "1595      -1.767458          0.227895    -0.867068       -0.008632  -1.013159   \n",
       "1596      -1.364367          0.000387    -0.683294        0.152372  -0.172896   \n",
       "1597      -1.767458          0.728553    -0.743826       -0.380998  -0.226113   \n",
       "1598      -1.662640         -1.320458     1.031070        1.375435  -0.688299   \n",
       "\n",
       "      free sulfur dioxide  total sulfur dioxide   density        pH  \\\n",
       "0               -0.268045             -0.124411  0.564442  1.275690   \n",
       "1                0.993852              0.854954  0.036967 -0.709517   \n",
       "2                0.193450              0.540394  0.142851 -0.310054   \n",
       "3                0.385115              0.693699  0.669354 -0.980154   \n",
       "4               -0.268045             -0.124411  0.564442  1.275690   \n",
       "...                   ...                   ...       ...       ...   \n",
       "1594             1.397043              0.244351 -0.978746  0.906172   \n",
       "1595             1.727353              0.457504 -0.860223  1.336627   \n",
       "1596             1.235044              0.107498 -0.527497  0.718869   \n",
       "1597             1.397043              0.244351 -0.672160  1.638595   \n",
       "1598             0.473632              0.177479 -0.661432  0.529832   \n",
       "\n",
       "      sulphates   alcohol  quality  \n",
       "0     -0.581650 -1.075025        0  \n",
       "1      0.395140 -0.500860        0  \n",
       "2      0.183772 -0.500860        0  \n",
       "3     -0.392318 -0.500860        1  \n",
       "4     -0.581650 -1.075025        0  \n",
       "...         ...       ...      ...  \n",
       "1594  -0.392318  0.292864        0  \n",
       "1595   0.874884  0.888124        1  \n",
       "1596   0.820841  0.734558        1  \n",
       "1597   0.588344 -0.018800        0  \n",
       "1598   0.256369  0.734558        1  \n",
       "\n",
       "[1599 rows x 12 columns]"
      ]
     },
     "execution_count": 26,
     "metadata": {},
     "output_type": "execute_result"
    }
   ],
   "source": [
    "new_wine=pd.concat([x,y],axis=1)\n",
    "new_wine"
   ]
  },
  {
   "cell_type": "code",
   "execution_count": 27,
   "id": "08571f1c",
   "metadata": {},
   "outputs": [],
   "source": [
    "from scipy.stats import zscore\n",
    "z=np.abs(zscore(new_wine))\n",
    "new_wine=new_wine[(z<3).all(axis=1)]"
   ]
  },
  {
   "cell_type": "code",
   "execution_count": 28,
   "id": "6cdd1465",
   "metadata": {},
   "outputs": [],
   "source": [
    "x=new_wine.drop(\"quality\",axis=1)\n",
    "y=new_wine[\"quality\"]"
   ]
  },
  {
   "cell_type": "code",
   "execution_count": 29,
   "id": "70c835e9",
   "metadata": {},
   "outputs": [
    {
     "data": {
      "text/html": [
       "<div>\n",
       "<style scoped>\n",
       "    .dataframe tbody tr th:only-of-type {\n",
       "        vertical-align: middle;\n",
       "    }\n",
       "\n",
       "    .dataframe tbody tr th {\n",
       "        vertical-align: top;\n",
       "    }\n",
       "\n",
       "    .dataframe thead th {\n",
       "        text-align: right;\n",
       "    }\n",
       "</style>\n",
       "<table border=\"1\" class=\"dataframe\">\n",
       "  <thead>\n",
       "    <tr style=\"text-align: right;\">\n",
       "      <th></th>\n",
       "      <th>fixed acidity</th>\n",
       "      <th>volatile acidity</th>\n",
       "      <th>citric acid</th>\n",
       "      <th>residual sugar</th>\n",
       "      <th>chlorides</th>\n",
       "      <th>free sulfur dioxide</th>\n",
       "      <th>total sulfur dioxide</th>\n",
       "      <th>density</th>\n",
       "      <th>pH</th>\n",
       "      <th>sulphates</th>\n",
       "      <th>alcohol</th>\n",
       "    </tr>\n",
       "  </thead>\n",
       "  <tbody>\n",
       "    <tr>\n",
       "      <th>0</th>\n",
       "      <td>-0.442666</td>\n",
       "      <td>0.995542</td>\n",
       "      <td>-1.531109</td>\n",
       "      <td>-0.597145</td>\n",
       "      <td>-0.172896</td>\n",
       "      <td>-0.268045</td>\n",
       "      <td>-0.124411</td>\n",
       "      <td>0.564442</td>\n",
       "      <td>1.275690</td>\n",
       "      <td>-0.581650</td>\n",
       "      <td>-1.075025</td>\n",
       "    </tr>\n",
       "    <tr>\n",
       "      <th>1</th>\n",
       "      <td>-0.161308</td>\n",
       "      <td>1.771299</td>\n",
       "      <td>-1.531109</td>\n",
       "      <td>0.556565</td>\n",
       "      <td>0.786204</td>\n",
       "      <td>0.993852</td>\n",
       "      <td>0.854954</td>\n",
       "      <td>0.036967</td>\n",
       "      <td>-0.709517</td>\n",
       "      <td>0.395140</td>\n",
       "      <td>-0.500860</td>\n",
       "    </tr>\n",
       "    <tr>\n",
       "      <th>2</th>\n",
       "      <td>-0.161308</td>\n",
       "      <td>1.269801</td>\n",
       "      <td>-1.255359</td>\n",
       "      <td>0.152372</td>\n",
       "      <td>0.560696</td>\n",
       "      <td>0.193450</td>\n",
       "      <td>0.540394</td>\n",
       "      <td>0.142851</td>\n",
       "      <td>-0.310054</td>\n",
       "      <td>0.183772</td>\n",
       "      <td>-0.500860</td>\n",
       "    </tr>\n",
       "    <tr>\n",
       "      <th>3</th>\n",
       "      <td>1.522582</td>\n",
       "      <td>-1.550050</td>\n",
       "      <td>1.398471</td>\n",
       "      <td>-0.597145</td>\n",
       "      <td>-0.226113</td>\n",
       "      <td>0.385115</td>\n",
       "      <td>0.693699</td>\n",
       "      <td>0.669354</td>\n",
       "      <td>-0.980154</td>\n",
       "      <td>-0.392318</td>\n",
       "      <td>-0.500860</td>\n",
       "    </tr>\n",
       "    <tr>\n",
       "      <th>4</th>\n",
       "      <td>-0.442666</td>\n",
       "      <td>0.995542</td>\n",
       "      <td>-1.531109</td>\n",
       "      <td>-0.597145</td>\n",
       "      <td>-0.172896</td>\n",
       "      <td>-0.268045</td>\n",
       "      <td>-0.124411</td>\n",
       "      <td>0.564442</td>\n",
       "      <td>1.275690</td>\n",
       "      <td>-0.581650</td>\n",
       "      <td>-1.075025</td>\n",
       "    </tr>\n",
       "    <tr>\n",
       "      <th>...</th>\n",
       "      <td>...</td>\n",
       "      <td>...</td>\n",
       "      <td>...</td>\n",
       "      <td>...</td>\n",
       "      <td>...</td>\n",
       "      <td>...</td>\n",
       "      <td>...</td>\n",
       "      <td>...</td>\n",
       "      <td>...</td>\n",
       "      <td>...</td>\n",
       "      <td>...</td>\n",
       "    </tr>\n",
       "    <tr>\n",
       "      <th>1594</th>\n",
       "      <td>-1.461202</td>\n",
       "      <td>0.497996</td>\n",
       "      <td>-0.993315</td>\n",
       "      <td>-0.380998</td>\n",
       "      <td>0.480036</td>\n",
       "      <td>1.397043</td>\n",
       "      <td>0.244351</td>\n",
       "      <td>-0.978746</td>\n",
       "      <td>0.906172</td>\n",
       "      <td>-0.392318</td>\n",
       "      <td>0.292864</td>\n",
       "    </tr>\n",
       "    <tr>\n",
       "      <th>1595</th>\n",
       "      <td>-1.767458</td>\n",
       "      <td>0.227895</td>\n",
       "      <td>-0.867068</td>\n",
       "      <td>-0.008632</td>\n",
       "      <td>-1.013159</td>\n",
       "      <td>1.727353</td>\n",
       "      <td>0.457504</td>\n",
       "      <td>-0.860223</td>\n",
       "      <td>1.336627</td>\n",
       "      <td>0.874884</td>\n",
       "      <td>0.888124</td>\n",
       "    </tr>\n",
       "    <tr>\n",
       "      <th>1596</th>\n",
       "      <td>-1.364367</td>\n",
       "      <td>0.000387</td>\n",
       "      <td>-0.683294</td>\n",
       "      <td>0.152372</td>\n",
       "      <td>-0.172896</td>\n",
       "      <td>1.235044</td>\n",
       "      <td>0.107498</td>\n",
       "      <td>-0.527497</td>\n",
       "      <td>0.718869</td>\n",
       "      <td>0.820841</td>\n",
       "      <td>0.734558</td>\n",
       "    </tr>\n",
       "    <tr>\n",
       "      <th>1597</th>\n",
       "      <td>-1.767458</td>\n",
       "      <td>0.728553</td>\n",
       "      <td>-0.743826</td>\n",
       "      <td>-0.380998</td>\n",
       "      <td>-0.226113</td>\n",
       "      <td>1.397043</td>\n",
       "      <td>0.244351</td>\n",
       "      <td>-0.672160</td>\n",
       "      <td>1.638595</td>\n",
       "      <td>0.588344</td>\n",
       "      <td>-0.018800</td>\n",
       "    </tr>\n",
       "    <tr>\n",
       "      <th>1598</th>\n",
       "      <td>-1.662640</td>\n",
       "      <td>-1.320458</td>\n",
       "      <td>1.031070</td>\n",
       "      <td>1.375435</td>\n",
       "      <td>-0.688299</td>\n",
       "      <td>0.473632</td>\n",
       "      <td>0.177479</td>\n",
       "      <td>-0.661432</td>\n",
       "      <td>0.529832</td>\n",
       "      <td>0.256369</td>\n",
       "      <td>0.734558</td>\n",
       "    </tr>\n",
       "  </tbody>\n",
       "</table>\n",
       "<p>1558 rows × 11 columns</p>\n",
       "</div>"
      ],
      "text/plain": [
       "      fixed acidity  volatile acidity  citric acid  residual sugar  chlorides  \\\n",
       "0         -0.442666          0.995542    -1.531109       -0.597145  -0.172896   \n",
       "1         -0.161308          1.771299    -1.531109        0.556565   0.786204   \n",
       "2         -0.161308          1.269801    -1.255359        0.152372   0.560696   \n",
       "3          1.522582         -1.550050     1.398471       -0.597145  -0.226113   \n",
       "4         -0.442666          0.995542    -1.531109       -0.597145  -0.172896   \n",
       "...             ...               ...          ...             ...        ...   \n",
       "1594      -1.461202          0.497996    -0.993315       -0.380998   0.480036   \n",
       "1595      -1.767458          0.227895    -0.867068       -0.008632  -1.013159   \n",
       "1596      -1.364367          0.000387    -0.683294        0.152372  -0.172896   \n",
       "1597      -1.767458          0.728553    -0.743826       -0.380998  -0.226113   \n",
       "1598      -1.662640         -1.320458     1.031070        1.375435  -0.688299   \n",
       "\n",
       "      free sulfur dioxide  total sulfur dioxide   density        pH  \\\n",
       "0               -0.268045             -0.124411  0.564442  1.275690   \n",
       "1                0.993852              0.854954  0.036967 -0.709517   \n",
       "2                0.193450              0.540394  0.142851 -0.310054   \n",
       "3                0.385115              0.693699  0.669354 -0.980154   \n",
       "4               -0.268045             -0.124411  0.564442  1.275690   \n",
       "...                   ...                   ...       ...       ...   \n",
       "1594             1.397043              0.244351 -0.978746  0.906172   \n",
       "1595             1.727353              0.457504 -0.860223  1.336627   \n",
       "1596             1.235044              0.107498 -0.527497  0.718869   \n",
       "1597             1.397043              0.244351 -0.672160  1.638595   \n",
       "1598             0.473632              0.177479 -0.661432  0.529832   \n",
       "\n",
       "      sulphates   alcohol  \n",
       "0     -0.581650 -1.075025  \n",
       "1      0.395140 -0.500860  \n",
       "2      0.183772 -0.500860  \n",
       "3     -0.392318 -0.500860  \n",
       "4     -0.581650 -1.075025  \n",
       "...         ...       ...  \n",
       "1594  -0.392318  0.292864  \n",
       "1595   0.874884  0.888124  \n",
       "1596   0.820841  0.734558  \n",
       "1597   0.588344 -0.018800  \n",
       "1598   0.256369  0.734558  \n",
       "\n",
       "[1558 rows x 11 columns]"
      ]
     },
     "execution_count": 29,
     "metadata": {},
     "output_type": "execute_result"
    }
   ],
   "source": [
    "x"
   ]
  },
  {
   "cell_type": "code",
   "execution_count": 30,
   "id": "d0b998ae",
   "metadata": {},
   "outputs": [
    {
     "data": {
      "text/plain": [
       "0       0\n",
       "1       0\n",
       "2       0\n",
       "3       1\n",
       "4       0\n",
       "       ..\n",
       "1594    0\n",
       "1595    1\n",
       "1596    1\n",
       "1597    0\n",
       "1598    1\n",
       "Name: quality, Length: 1558, dtype: int64"
      ]
     },
     "execution_count": 30,
     "metadata": {},
     "output_type": "execute_result"
    }
   ],
   "source": [
    "y"
   ]
  },
  {
   "cell_type": "code",
   "execution_count": 31,
   "id": "c2c0f8c9",
   "metadata": {},
   "outputs": [],
   "source": [
    "from sklearn.linear_model import LogisticRegression\n",
    "from sklearn.metrics import accuracy_score\n",
    "from sklearn.metrics import confusion_matrix,classification_report\n",
    "from sklearn.model_selection import train_test_split"
   ]
  },
  {
   "cell_type": "code",
   "execution_count": 32,
   "id": "ed46c40d",
   "metadata": {},
   "outputs": [
    {
     "name": "stdout",
     "output_type": "stream",
     "text": [
      "Best accuracy is 0.8141025641025641 on Random state 921\n"
     ]
    }
   ],
   "source": [
    "maxAcc=0\n",
    "maxRS=0\n",
    "\n",
    "for i in range(1,1500):\n",
    "    x_train,x_test,y_train,y_test=train_test_split(x,y,test_size=0.2,random_state=i)\n",
    "    LR=LogisticRegression()\n",
    "    LR.fit(x_train,y_train)\n",
    "    predrf=LR.predict(x_test)\n",
    "    acc=accuracy_score(y_test,predrf)\n",
    "    if acc>maxAcc:\n",
    "        maxAcc=acc\n",
    "        maxRS=i\n",
    "print(\"Best accuracy is\",maxAcc,\"on Random state\",maxRS)"
   ]
  },
  {
   "cell_type": "code",
   "execution_count": 33,
   "id": "6c50bb7d",
   "metadata": {},
   "outputs": [],
   "source": [
    "x_train,x_test,y_train,y_test=train_test_split(x,y,test_size=0.2,random_state=921)"
   ]
  },
  {
   "cell_type": "code",
   "execution_count": 34,
   "id": "768ada51",
   "metadata": {},
   "outputs": [
    {
     "data": {
      "text/html": [
       "<div>\n",
       "<style scoped>\n",
       "    .dataframe tbody tr th:only-of-type {\n",
       "        vertical-align: middle;\n",
       "    }\n",
       "\n",
       "    .dataframe tbody tr th {\n",
       "        vertical-align: top;\n",
       "    }\n",
       "\n",
       "    .dataframe thead th {\n",
       "        text-align: right;\n",
       "    }\n",
       "</style>\n",
       "<table border=\"1\" class=\"dataframe\">\n",
       "  <thead>\n",
       "    <tr style=\"text-align: right;\">\n",
       "      <th></th>\n",
       "      <th>fixed acidity</th>\n",
       "      <th>volatile acidity</th>\n",
       "      <th>citric acid</th>\n",
       "      <th>residual sugar</th>\n",
       "      <th>chlorides</th>\n",
       "      <th>free sulfur dioxide</th>\n",
       "      <th>total sulfur dioxide</th>\n",
       "      <th>density</th>\n",
       "      <th>pH</th>\n",
       "      <th>sulphates</th>\n",
       "      <th>alcohol</th>\n",
       "    </tr>\n",
       "  </thead>\n",
       "  <tbody>\n",
       "    <tr>\n",
       "      <th>20</th>\n",
       "      <td>0.501915</td>\n",
       "      <td>-2.039247</td>\n",
       "      <td>1.073347</td>\n",
       "      <td>-0.837193</td>\n",
       "      <td>-0.120630</td>\n",
       "      <td>1.235044</td>\n",
       "      <td>0.693699</td>\n",
       "      <td>0.036967</td>\n",
       "      <td>0.529832</td>\n",
       "      <td>-0.889618</td>\n",
       "      <td>-1.075025</td>\n",
       "    </tr>\n",
       "    <tr>\n",
       "      <th>397</th>\n",
       "      <td>1.629618</td>\n",
       "      <td>0.445186</td>\n",
       "      <td>1.514748</td>\n",
       "      <td>0.556565</td>\n",
       "      <td>0.353538</td>\n",
       "      <td>-0.021924</td>\n",
       "      <td>0.399609</td>\n",
       "      <td>1.087075</td>\n",
       "      <td>-0.844397</td>\n",
       "      <td>0.183772</td>\n",
       "      <td>0.734558</td>\n",
       "    </tr>\n",
       "    <tr>\n",
       "      <th>450</th>\n",
       "      <td>1.765062</td>\n",
       "      <td>-0.751558</td>\n",
       "      <td>1.882270</td>\n",
       "      <td>0.773887</td>\n",
       "      <td>0.676443</td>\n",
       "      <td>0.385115</td>\n",
       "      <td>-0.083185</td>\n",
       "      <td>1.398351</td>\n",
       "      <td>-1.392800</td>\n",
       "      <td>-0.129955</td>\n",
       "      <td>0.568428</td>\n",
       "    </tr>\n",
       "    <tr>\n",
       "      <th>1148</th>\n",
       "      <td>-0.161308</td>\n",
       "      <td>-0.751558</td>\n",
       "      <td>0.813819</td>\n",
       "      <td>-0.380998</td>\n",
       "      <td>0.309847</td>\n",
       "      <td>-0.555712</td>\n",
       "      <td>-0.799912</td>\n",
       "      <td>-0.784925</td>\n",
       "      <td>0.529832</td>\n",
       "      <td>0.256369</td>\n",
       "      <td>1.161982</td>\n",
       "    </tr>\n",
       "    <tr>\n",
       "      <th>1092</th>\n",
       "      <td>-0.750316</td>\n",
       "      <td>0.172004</td>\n",
       "      <td>-0.929808</td>\n",
       "      <td>-0.380998</td>\n",
       "      <td>0.079287</td>\n",
       "      <td>-0.405793</td>\n",
       "      <td>-1.171799</td>\n",
       "      <td>-1.038098</td>\n",
       "      <td>0.781494</td>\n",
       "      <td>-0.302088</td>\n",
       "      <td>1.097364</td>\n",
       "    </tr>\n",
       "    <tr>\n",
       "      <th>...</th>\n",
       "      <td>...</td>\n",
       "      <td>...</td>\n",
       "      <td>...</td>\n",
       "      <td>...</td>\n",
       "      <td>...</td>\n",
       "      <td>...</td>\n",
       "      <td>...</td>\n",
       "      <td>...</td>\n",
       "      <td>...</td>\n",
       "      <td>...</td>\n",
       "      <td>...</td>\n",
       "    </tr>\n",
       "    <tr>\n",
       "      <th>233</th>\n",
       "      <td>-0.831784</td>\n",
       "      <td>0.058263</td>\n",
       "      <td>-0.008132</td>\n",
       "      <td>0.556565</td>\n",
       "      <td>0.079287</td>\n",
       "      <td>-0.405793</td>\n",
       "      <td>-0.003984</td>\n",
       "      <td>0.063456</td>\n",
       "      <td>0.968227</td>\n",
       "      <td>-1.229523</td>\n",
       "      <td>0.734558</td>\n",
       "    </tr>\n",
       "    <tr>\n",
       "      <th>1209</th>\n",
       "      <td>-1.461202</td>\n",
       "      <td>-0.751558</td>\n",
       "      <td>0.858073</td>\n",
       "      <td>-0.380998</td>\n",
       "      <td>-0.448846</td>\n",
       "      <td>0.089102</td>\n",
       "      <td>-0.614678</td>\n",
       "      <td>-1.314064</td>\n",
       "      <td>0.906172</td>\n",
       "      <td>1.379169</td>\n",
       "      <td>0.888124</td>\n",
       "    </tr>\n",
       "    <tr>\n",
       "      <th>299</th>\n",
       "      <td>-0.831784</td>\n",
       "      <td>0.851851</td>\n",
       "      <td>-1.122699</td>\n",
       "      <td>-0.185690</td>\n",
       "      <td>0.030646</td>\n",
       "      <td>-0.720270</td>\n",
       "      <td>-0.166804</td>\n",
       "      <td>0.904701</td>\n",
       "      <td>2.287418</td>\n",
       "      <td>0.588344</td>\n",
       "      <td>-0.775172</td>\n",
       "    </tr>\n",
       "    <tr>\n",
       "      <th>579</th>\n",
       "      <td>1.292981</td>\n",
       "      <td>-1.320458</td>\n",
       "      <td>1.115247</td>\n",
       "      <td>-0.008632</td>\n",
       "      <td>-0.945798</td>\n",
       "      <td>0.473632</td>\n",
       "      <td>0.107498</td>\n",
       "      <td>0.459336</td>\n",
       "      <td>-1.116801</td>\n",
       "      <td>-1.112434</td>\n",
       "      <td>-0.500860</td>\n",
       "    </tr>\n",
       "    <tr>\n",
       "      <th>1088</th>\n",
       "      <td>1.664235</td>\n",
       "      <td>-0.618339</td>\n",
       "      <td>1.319295</td>\n",
       "      <td>-1.740962</td>\n",
       "      <td>0.676443</td>\n",
       "      <td>0.789137</td>\n",
       "      <td>0.142895</td>\n",
       "      <td>0.327680</td>\n",
       "      <td>-1.955920</td>\n",
       "      <td>0.874884</td>\n",
       "      <td>-0.372459</td>\n",
       "    </tr>\n",
       "  </tbody>\n",
       "</table>\n",
       "<p>1246 rows × 11 columns</p>\n",
       "</div>"
      ],
      "text/plain": [
       "      fixed acidity  volatile acidity  citric acid  residual sugar  chlorides  \\\n",
       "20         0.501915         -2.039247     1.073347       -0.837193  -0.120630   \n",
       "397        1.629618          0.445186     1.514748        0.556565   0.353538   \n",
       "450        1.765062         -0.751558     1.882270        0.773887   0.676443   \n",
       "1148      -0.161308         -0.751558     0.813819       -0.380998   0.309847   \n",
       "1092      -0.750316          0.172004    -0.929808       -0.380998   0.079287   \n",
       "...             ...               ...          ...             ...        ...   \n",
       "233       -0.831784          0.058263    -0.008132        0.556565   0.079287   \n",
       "1209      -1.461202         -0.751558     0.858073       -0.380998  -0.448846   \n",
       "299       -0.831784          0.851851    -1.122699       -0.185690   0.030646   \n",
       "579        1.292981         -1.320458     1.115247       -0.008632  -0.945798   \n",
       "1088       1.664235         -0.618339     1.319295       -1.740962   0.676443   \n",
       "\n",
       "      free sulfur dioxide  total sulfur dioxide   density        pH  \\\n",
       "20               1.235044              0.693699  0.036967  0.529832   \n",
       "397             -0.021924              0.399609  1.087075 -0.844397   \n",
       "450              0.385115             -0.083185  1.398351 -1.392800   \n",
       "1148            -0.555712             -0.799912 -0.784925  0.529832   \n",
       "1092            -0.405793             -1.171799 -1.038098  0.781494   \n",
       "...                   ...                   ...       ...       ...   \n",
       "233             -0.405793             -0.003984  0.063456  0.968227   \n",
       "1209             0.089102             -0.614678 -1.314064  0.906172   \n",
       "299             -0.720270             -0.166804  0.904701  2.287418   \n",
       "579              0.473632              0.107498  0.459336 -1.116801   \n",
       "1088             0.789137              0.142895  0.327680 -1.955920   \n",
       "\n",
       "      sulphates   alcohol  \n",
       "20    -0.889618 -1.075025  \n",
       "397    0.183772  0.734558  \n",
       "450   -0.129955  0.568428  \n",
       "1148   0.256369  1.161982  \n",
       "1092  -0.302088  1.097364  \n",
       "...         ...       ...  \n",
       "233   -1.229523  0.734558  \n",
       "1209   1.379169  0.888124  \n",
       "299    0.588344 -0.775172  \n",
       "579   -1.112434 -0.500860  \n",
       "1088   0.874884 -0.372459  \n",
       "\n",
       "[1246 rows x 11 columns]"
      ]
     },
     "execution_count": 34,
     "metadata": {},
     "output_type": "execute_result"
    }
   ],
   "source": [
    "x_train"
   ]
  },
  {
   "cell_type": "code",
   "execution_count": 35,
   "id": "81477bbc",
   "metadata": {},
   "outputs": [
    {
     "data": {
      "text/plain": [
       "20      1\n",
       "397     1\n",
       "450     1\n",
       "1148    1\n",
       "1092    1\n",
       "       ..\n",
       "233     0\n",
       "1209    1\n",
       "299     0\n",
       "579     1\n",
       "1088    1\n",
       "Name: quality, Length: 1246, dtype: int64"
      ]
     },
     "execution_count": 35,
     "metadata": {},
     "output_type": "execute_result"
    }
   ],
   "source": [
    "y_train"
   ]
  },
  {
   "cell_type": "code",
   "execution_count": 36,
   "id": "e2c6fae5",
   "metadata": {},
   "outputs": [
    {
     "data": {
      "text/html": [
       "<div>\n",
       "<style scoped>\n",
       "    .dataframe tbody tr th:only-of-type {\n",
       "        vertical-align: middle;\n",
       "    }\n",
       "\n",
       "    .dataframe tbody tr th {\n",
       "        vertical-align: top;\n",
       "    }\n",
       "\n",
       "    .dataframe thead th {\n",
       "        text-align: right;\n",
       "    }\n",
       "</style>\n",
       "<table border=\"1\" class=\"dataframe\">\n",
       "  <thead>\n",
       "    <tr style=\"text-align: right;\">\n",
       "      <th></th>\n",
       "      <th>fixed acidity</th>\n",
       "      <th>volatile acidity</th>\n",
       "      <th>citric acid</th>\n",
       "      <th>residual sugar</th>\n",
       "      <th>chlorides</th>\n",
       "      <th>free sulfur dioxide</th>\n",
       "      <th>total sulfur dioxide</th>\n",
       "      <th>density</th>\n",
       "      <th>pH</th>\n",
       "      <th>sulphates</th>\n",
       "      <th>alcohol</th>\n",
       "    </tr>\n",
       "  </thead>\n",
       "  <tbody>\n",
       "    <tr>\n",
       "      <th>1121</th>\n",
       "      <td>-1.088223</td>\n",
       "      <td>-0.058175</td>\n",
       "      <td>-1.531109</td>\n",
       "      <td>-0.837193</td>\n",
       "      <td>-1.013159</td>\n",
       "      <td>0.715350</td>\n",
       "      <td>-0.398904</td>\n",
       "      <td>-1.727728</td>\n",
       "      <td>0.843929</td>\n",
       "      <td>-0.680985</td>\n",
       "      <td>1.553335</td>\n",
       "    </tr>\n",
       "    <tr>\n",
       "      <th>1466</th>\n",
       "      <td>-0.516971</td>\n",
       "      <td>-0.177409</td>\n",
       "      <td>0.347272</td>\n",
       "      <td>-0.185690</td>\n",
       "      <td>-1.013159</td>\n",
       "      <td>1.344621</td>\n",
       "      <td>0.540394</td>\n",
       "      <td>0.290762</td>\n",
       "      <td>-0.047962</td>\n",
       "      <td>0.183772</td>\n",
       "      <td>-0.249498</td>\n",
       "    </tr>\n",
       "    <tr>\n",
       "      <th>1120</th>\n",
       "      <td>-0.094677</td>\n",
       "      <td>0.172004</td>\n",
       "      <td>0.444255</td>\n",
       "      <td>0.433471</td>\n",
       "      <td>-0.172896</td>\n",
       "      <td>-0.720270</td>\n",
       "      <td>-1.089553</td>\n",
       "      <td>-2.370260</td>\n",
       "      <td>-0.709517</td>\n",
       "      <td>0.649033</td>\n",
       "      <td>1.896464</td>\n",
       "    </tr>\n",
       "    <tr>\n",
       "      <th>730</th>\n",
       "      <td>0.808509</td>\n",
       "      <td>0.227895</td>\n",
       "      <td>1.775102</td>\n",
       "      <td>0.152372</td>\n",
       "      <td>2.885367</td>\n",
       "      <td>-0.140581</td>\n",
       "      <td>-0.003984</td>\n",
       "      <td>0.774074</td>\n",
       "      <td>-0.912165</td>\n",
       "      <td>0.326800</td>\n",
       "      <td>-0.775172</td>\n",
       "    </tr>\n",
       "    <tr>\n",
       "      <th>1031</th>\n",
       "      <td>-0.516971</td>\n",
       "      <td>0.227895</td>\n",
       "      <td>-1.460818</td>\n",
       "      <td>-0.837193</td>\n",
       "      <td>0.599964</td>\n",
       "      <td>-0.555712</td>\n",
       "      <td>-1.258911</td>\n",
       "      <td>-0.849461</td>\n",
       "      <td>0.275038</td>\n",
       "      <td>-0.392318</td>\n",
       "      <td>0.734558</td>\n",
       "    </tr>\n",
       "    <tr>\n",
       "      <th>...</th>\n",
       "      <td>...</td>\n",
       "      <td>...</td>\n",
       "      <td>...</td>\n",
       "      <td>...</td>\n",
       "      <td>...</td>\n",
       "      <td>...</td>\n",
       "      <td>...</td>\n",
       "      <td>...</td>\n",
       "      <td>...</td>\n",
       "      <td>...</td>\n",
       "      <td>...</td>\n",
       "    </tr>\n",
       "    <tr>\n",
       "      <th>784</th>\n",
       "      <td>-0.670735</td>\n",
       "      <td>0.445186</td>\n",
       "      <td>-1.460818</td>\n",
       "      <td>0.433471</td>\n",
       "      <td>-0.120630</td>\n",
       "      <td>0.638378</td>\n",
       "      <td>1.204978</td>\n",
       "      <td>0.385646</td>\n",
       "      <td>1.518349</td>\n",
       "      <td>-0.302088</td>\n",
       "      <td>-0.500860</td>\n",
       "    </tr>\n",
       "    <tr>\n",
       "      <th>460</th>\n",
       "      <td>0.659438</td>\n",
       "      <td>-0.488441</td>\n",
       "      <td>1.238744</td>\n",
       "      <td>0.152372</td>\n",
       "      <td>0.173993</td>\n",
       "      <td>0.089102</td>\n",
       "      <td>-0.673892</td>\n",
       "      <td>0.459336</td>\n",
       "      <td>0.275038</td>\n",
       "      <td>-0.129955</td>\n",
       "      <td>0.960555</td>\n",
       "    </tr>\n",
       "    <tr>\n",
       "      <th>1546</th>\n",
       "      <td>-0.750316</td>\n",
       "      <td>0.337772</td>\n",
       "      <td>-1.391443</td>\n",
       "      <td>-0.380998</td>\n",
       "      <td>-0.391644</td>\n",
       "      <td>0.385115</td>\n",
       "      <td>-0.502887</td>\n",
       "      <td>-0.522146</td>\n",
       "      <td>0.339033</td>\n",
       "      <td>-0.129955</td>\n",
       "      <td>-0.018800</td>\n",
       "    </tr>\n",
       "    <tr>\n",
       "      <th>1161</th>\n",
       "      <td>0.447400</td>\n",
       "      <td>-0.361738</td>\n",
       "      <td>0.858073</td>\n",
       "      <td>-2.121200</td>\n",
       "      <td>-0.172896</td>\n",
       "      <td>-0.140581</td>\n",
       "      <td>-0.799912</td>\n",
       "      <td>-0.650705</td>\n",
       "      <td>-0.642404</td>\n",
       "      <td>0.820841</td>\n",
       "      <td>-0.018800</td>\n",
       "    </tr>\n",
       "    <tr>\n",
       "      <th>344</th>\n",
       "      <td>1.765062</td>\n",
       "      <td>0.337772</td>\n",
       "      <td>1.156776</td>\n",
       "      <td>0.556565</td>\n",
       "      <td>0.127064</td>\n",
       "      <td>-1.107886</td>\n",
       "      <td>-0.210431</td>\n",
       "      <td>2.015763</td>\n",
       "      <td>-1.254346</td>\n",
       "      <td>0.978451</td>\n",
       "      <td>0.480262</td>\n",
       "    </tr>\n",
       "  </tbody>\n",
       "</table>\n",
       "<p>312 rows × 11 columns</p>\n",
       "</div>"
      ],
      "text/plain": [
       "      fixed acidity  volatile acidity  citric acid  residual sugar  chlorides  \\\n",
       "1121      -1.088223         -0.058175    -1.531109       -0.837193  -1.013159   \n",
       "1466      -0.516971         -0.177409     0.347272       -0.185690  -1.013159   \n",
       "1120      -0.094677          0.172004     0.444255        0.433471  -0.172896   \n",
       "730        0.808509          0.227895     1.775102        0.152372   2.885367   \n",
       "1031      -0.516971          0.227895    -1.460818       -0.837193   0.599964   \n",
       "...             ...               ...          ...             ...        ...   \n",
       "784       -0.670735          0.445186    -1.460818        0.433471  -0.120630   \n",
       "460        0.659438         -0.488441     1.238744        0.152372   0.173993   \n",
       "1546      -0.750316          0.337772    -1.391443       -0.380998  -0.391644   \n",
       "1161       0.447400         -0.361738     0.858073       -2.121200  -0.172896   \n",
       "344        1.765062          0.337772     1.156776        0.556565   0.127064   \n",
       "\n",
       "      free sulfur dioxide  total sulfur dioxide   density        pH  \\\n",
       "1121             0.715350             -0.398904 -1.727728  0.843929   \n",
       "1466             1.344621              0.540394  0.290762 -0.047962   \n",
       "1120            -0.720270             -1.089553 -2.370260 -0.709517   \n",
       "730             -0.140581             -0.003984  0.774074 -0.912165   \n",
       "1031            -0.555712             -1.258911 -0.849461  0.275038   \n",
       "...                   ...                   ...       ...       ...   \n",
       "784              0.638378              1.204978  0.385646  1.518349   \n",
       "460              0.089102             -0.673892  0.459336  0.275038   \n",
       "1546             0.385115             -0.502887 -0.522146  0.339033   \n",
       "1161            -0.140581             -0.799912 -0.650705 -0.642404   \n",
       "344             -1.107886             -0.210431  2.015763 -1.254346   \n",
       "\n",
       "      sulphates   alcohol  \n",
       "1121  -0.680985  1.553335  \n",
       "1466   0.183772 -0.249498  \n",
       "1120   0.649033  1.896464  \n",
       "730    0.326800 -0.775172  \n",
       "1031  -0.392318  0.734558  \n",
       "...         ...       ...  \n",
       "784   -0.302088 -0.500860  \n",
       "460   -0.129955  0.960555  \n",
       "1546  -0.129955 -0.018800  \n",
       "1161   0.820841 -0.018800  \n",
       "344    0.978451  0.480262  \n",
       "\n",
       "[312 rows x 11 columns]"
      ]
     },
     "execution_count": 36,
     "metadata": {},
     "output_type": "execute_result"
    }
   ],
   "source": [
    "x_test"
   ]
  },
  {
   "cell_type": "code",
   "execution_count": 37,
   "id": "84a43f73",
   "metadata": {},
   "outputs": [
    {
     "data": {
      "text/plain": [
       "1121    1\n",
       "1466    1\n",
       "1120    1\n",
       "730     0\n",
       "1031    1\n",
       "       ..\n",
       "784     0\n",
       "460     1\n",
       "1546    0\n",
       "1161    1\n",
       "344     1\n",
       "Name: quality, Length: 312, dtype: int64"
      ]
     },
     "execution_count": 37,
     "metadata": {},
     "output_type": "execute_result"
    }
   ],
   "source": [
    "y_test"
   ]
  },
  {
   "cell_type": "code",
   "execution_count": 38,
   "id": "66d91791",
   "metadata": {},
   "outputs": [
    {
     "data": {
      "text/plain": [
       "(1246, 11)"
      ]
     },
     "execution_count": 38,
     "metadata": {},
     "output_type": "execute_result"
    }
   ],
   "source": [
    "x_train.shape"
   ]
  },
  {
   "cell_type": "code",
   "execution_count": 39,
   "id": "24c9fff1",
   "metadata": {},
   "outputs": [
    {
     "data": {
      "text/plain": [
       "(1246,)"
      ]
     },
     "execution_count": 39,
     "metadata": {},
     "output_type": "execute_result"
    }
   ],
   "source": [
    "y_train.shape"
   ]
  },
  {
   "cell_type": "code",
   "execution_count": 40,
   "id": "c0789635",
   "metadata": {},
   "outputs": [
    {
     "data": {
      "text/plain": [
       "(312, 11)"
      ]
     },
     "execution_count": 40,
     "metadata": {},
     "output_type": "execute_result"
    }
   ],
   "source": [
    "x_test.shape"
   ]
  },
  {
   "cell_type": "code",
   "execution_count": 41,
   "id": "58538e17",
   "metadata": {},
   "outputs": [
    {
     "data": {
      "text/plain": [
       "(312,)"
      ]
     },
     "execution_count": 41,
     "metadata": {},
     "output_type": "execute_result"
    }
   ],
   "source": [
    "y_test.shape"
   ]
  },
  {
   "cell_type": "markdown",
   "id": "ee20f324",
   "metadata": {},
   "source": [
    "# Logistic Regression"
   ]
  },
  {
   "cell_type": "code",
   "execution_count": 42,
   "id": "5d59583a",
   "metadata": {},
   "outputs": [
    {
     "name": "stdout",
     "output_type": "stream",
     "text": [
      "Accuracy 81.41025641025641\n",
      "[[105  31]\n",
      " [ 27 149]]\n",
      "              precision    recall  f1-score   support\n",
      "\n",
      "           0       0.80      0.77      0.78       136\n",
      "           1       0.83      0.85      0.84       176\n",
      "\n",
      "    accuracy                           0.81       312\n",
      "   macro avg       0.81      0.81      0.81       312\n",
      "weighted avg       0.81      0.81      0.81       312\n",
      "\n"
     ]
    }
   ],
   "source": [
    "from sklearn.linear_model import LogisticRegression\n",
    "LR= LogisticRegression()\n",
    "LR.fit(x_train,y_train)\n",
    "predlr=LR.predict(x_test)\n",
    "print (\"Accuracy\",accuracy_score(y_test, predlr)*100)\n",
    "print (confusion_matrix(y_test,predlr))\n",
    "print (classification_report(y_test,predlr))"
   ]
  },
  {
   "cell_type": "markdown",
   "id": "3ac0ef65",
   "metadata": {},
   "source": [
    "# Decision Tree Classifier"
   ]
  },
  {
   "cell_type": "code",
   "execution_count": 43,
   "id": "8b5359d5",
   "metadata": {},
   "outputs": [
    {
     "name": "stdout",
     "output_type": "stream",
     "text": [
      "Accuracy 71.15384615384616\n",
      "[[ 92  44]\n",
      " [ 46 130]]\n",
      "              precision    recall  f1-score   support\n",
      "\n",
      "           0       0.67      0.68      0.67       136\n",
      "           1       0.75      0.74      0.74       176\n",
      "\n",
      "    accuracy                           0.71       312\n",
      "   macro avg       0.71      0.71      0.71       312\n",
      "weighted avg       0.71      0.71      0.71       312\n",
      "\n"
     ]
    }
   ],
   "source": [
    "from sklearn.tree import DecisionTreeClassifier \n",
    "DT=DecisionTreeClassifier()\n",
    "DT.fit(x_train,y_train)\n",
    "preddt=DT.predict(x_test)\n",
    "print (\"Accuracy\",accuracy_score(y_test, preddt)*100)\n",
    "print (confusion_matrix(y_test,preddt))\n",
    "print (classification_report(y_test,preddt))"
   ]
  },
  {
   "cell_type": "code",
   "execution_count": 44,
   "id": "c9c2790f",
   "metadata": {},
   "outputs": [
    {
     "name": "stdout",
     "output_type": "stream",
     "text": [
      "Accuracy 86.53846153846155\n",
      "[[117  19]\n",
      " [ 23 153]]\n",
      "              precision    recall  f1-score   support\n",
      "\n",
      "           0       0.84      0.86      0.85       136\n",
      "           1       0.89      0.87      0.88       176\n",
      "\n",
      "    accuracy                           0.87       312\n",
      "   macro avg       0.86      0.86      0.86       312\n",
      "weighted avg       0.87      0.87      0.87       312\n",
      "\n"
     ]
    }
   ],
   "source": [
    "from sklearn.ensemble import RandomForestClassifier \n",
    "RF=RandomForestClassifier()\n",
    "RF.fit(x_train,y_train)\n",
    "predrf=RF.predict(x_test)\n",
    "print (\"Accuracy\",accuracy_score(y_test, predrf)*100)\n",
    "print (confusion_matrix(y_test,predrf))\n",
    "print (classification_report(y_test,predrf))"
   ]
  },
  {
   "cell_type": "code",
   "execution_count": 45,
   "id": "76c67338",
   "metadata": {},
   "outputs": [
    {
     "name": "stdout",
     "output_type": "stream",
     "text": [
      "Accuracy 81.73076923076923\n",
      "[[107  29]\n",
      " [ 28 148]]\n",
      "              precision    recall  f1-score   support\n",
      "\n",
      "           0       0.79      0.79      0.79       136\n",
      "           1       0.84      0.84      0.84       176\n",
      "\n",
      "    accuracy                           0.82       312\n",
      "   macro avg       0.81      0.81      0.81       312\n",
      "weighted avg       0.82      0.82      0.82       312\n",
      "\n"
     ]
    }
   ],
   "source": [
    "from sklearn.svm import SVC\n",
    "svc=SVC()\n",
    "svc.fit(x_train,y_train)\n",
    "predsv=svc.predict(x_test)\n",
    "print (\"Accuracy\",accuracy_score(y_test, predsv)*100)\n",
    "print (confusion_matrix(y_test,predsv))\n",
    "print (classification_report(y_test,predsv))"
   ]
  },
  {
   "cell_type": "markdown",
   "id": "305e1e2e",
   "metadata": {},
   "source": [
    "# CROSS VALIDATION"
   ]
  },
  {
   "cell_type": "code",
   "execution_count": 46,
   "id": "35caba42",
   "metadata": {},
   "outputs": [
    {
     "name": "stdout",
     "output_type": "stream",
     "text": [
      "Cross validation score of Logistic Regression Model is 0.7208096298128452\n"
     ]
    }
   ],
   "source": [
    "from sklearn.model_selection import cross_val_score\n",
    "\n",
    "scr1=cross_val_score(LR, x, y, cv=5)\n",
    "print(\"Cross validation score of Logistic Regression Model is\",scr1.mean())"
   ]
  },
  {
   "cell_type": "code",
   "execution_count": 47,
   "id": "d2412eb9",
   "metadata": {},
   "outputs": [
    {
     "name": "stdout",
     "output_type": "stream",
     "text": [
      "Cross validation score of Random Forest Classifier is 0.7220525187566988\n"
     ]
    }
   ],
   "source": [
    "scr2=cross_val_score(RF, x, y, cv=5)\n",
    "print(\"Cross validation score of Random Forest Classifier is\",scr2.mean())"
   ]
  },
  {
   "cell_type": "code",
   "execution_count": 48,
   "id": "bad03640",
   "metadata": {},
   "outputs": [
    {
     "name": "stdout",
     "output_type": "stream",
     "text": [
      "Cross validation score of Decision Tree Classifier is 0.6379524280649683\n"
     ]
    }
   ],
   "source": [
    "scr3=cross_val_score(DT, x, y, cv=5)\n",
    "print(\"Cross validation score of Decision Tree Classifier is\",scr3.mean())"
   ]
  },
  {
   "cell_type": "markdown",
   "id": "53375c27",
   "metadata": {},
   "source": [
    "We see that the best accuracy is given by Random Forest Classifier"
   ]
  },
  {
   "cell_type": "markdown",
   "id": "46216032",
   "metadata": {},
   "source": [
    "Hyper Parameter Testing"
   ]
  },
  {
   "cell_type": "code",
   "execution_count": 49,
   "id": "5e1f38e7",
   "metadata": {},
   "outputs": [],
   "source": [
    "from sklearn.model_selection import GridSearchCV\n",
    "\n",
    "parameters={'max_features':['sqrt','auto','log2'],\n",
    "           'max_depth':range(1,50,3),\n",
    "           'criterion':['gini','entropy']}"
   ]
  },
  {
   "cell_type": "code",
   "execution_count": 50,
   "id": "2e3718c2",
   "metadata": {},
   "outputs": [
    {
     "data": {
      "text/plain": [
       "{'criterion': 'entropy', 'max_depth': 25, 'max_features': 'auto'}"
      ]
     },
     "execution_count": 50,
     "metadata": {},
     "output_type": "execute_result"
    }
   ],
   "source": [
    "GCV=GridSearchCV(RandomForestClassifier(),parameters,cv=5,scoring='accuracy')\n",
    "GCV.fit(x_train,y_train)\n",
    "GCV.best_params_"
   ]
  },
  {
   "cell_type": "code",
   "execution_count": 51,
   "id": "ed05944d",
   "metadata": {},
   "outputs": [
    {
     "data": {
      "text/plain": [
       "0.8525641025641025"
      ]
     },
     "execution_count": 51,
     "metadata": {},
     "output_type": "execute_result"
    }
   ],
   "source": [
    "GCV_pred=GCV.best_estimator_.predict(x_test)\n",
    "accuracy_score(y_test,GCV_pred)"
   ]
  },
  {
   "cell_type": "code",
   "execution_count": 52,
   "id": "19fba643",
   "metadata": {},
   "outputs": [],
   "source": [
    "from sklearn.model_selection import RandomizedSearchCV\n",
    "\n",
    "grid_param={'min_samples_leaf':range(1,50,3),\n",
    "            'min_samples_split':range(2,50,3),\n",
    "           'max_depth':range(1,50,3),\n",
    "           'criterion':['gini','entropy'],\n",
    "           'splitter':['best','random']}"
   ]
  },
  {
   "cell_type": "code",
   "execution_count": 53,
   "id": "1ff2fdf2",
   "metadata": {},
   "outputs": [
    {
     "data": {
      "text/plain": [
       "{'criterion': 'entropy',\n",
       " 'max_depth': 28,\n",
       " 'min_samples_leaf': 1,\n",
       " 'min_samples_split': 5,\n",
       " 'splitter': 'random'}"
      ]
     },
     "execution_count": 53,
     "metadata": {},
     "output_type": "execute_result"
    }
   ],
   "source": [
    "RCV=GridSearchCV(DecisionTreeClassifier(),grid_param,cv=5,scoring='accuracy')\n",
    "RCV.fit(x_train,y_train)\n",
    "RCV.best_params_"
   ]
  },
  {
   "cell_type": "code",
   "execution_count": 54,
   "id": "fbc5c011",
   "metadata": {},
   "outputs": [
    {
     "data": {
      "text/plain": [
       "0.75"
      ]
     },
     "execution_count": 54,
     "metadata": {},
     "output_type": "execute_result"
    }
   ],
   "source": [
    "RCV_pred=RCV.best_estimator_.predict(x_test)\n",
    "accuracy_score(y_test,RCV_pred)"
   ]
  },
  {
   "cell_type": "code",
   "execution_count": 55,
   "id": "08a1104b",
   "metadata": {},
   "outputs": [
    {
     "data": {
      "image/png": "[encoded data removed]",
      "text/plain": [
       "<Figure size 640x480 with 1 Axes>"
      ]
     },
     "metadata": {},
     "output_type": "display_data"
    }
   ],
   "source": [
    "from sklearn.metrics import plot_roc_curve\n",
    "plot_roc_curve(RCV.best_estimator_,x_test,y_test)\n",
    "plt.title(\"ROC AUC plot\")\n",
    "plt.show()"
   ]
  },
  {
   "cell_type": "code",
   "execution_count": 56,
   "id": "9d673642",
   "metadata": {},
   "outputs": [
    {
     "data": {
      "image/png": "[encoded data removed]",
      "text/plain": [
       "<Figure size 640x480 with 1 Axes>"
      ]
     },
     "metadata": {},
     "output_type": "display_data"
    }
   ],
   "source": [
    "from sklearn.metrics import plot_roc_curve\n",
    "plot_roc_curve(GCV.best_estimator_,x_test,y_test)\n",
    "plt.title(\"ROC AUC plot\")\n",
    "plt.show()"
   ]
  },
  {
   "cell_type": "markdown",
   "id": "f664d921",
   "metadata": {},
   "source": [
    "Final accuracy is 83.3% and AUC accuracy is 92% using the Random Forest Classifier"
   ]
  },
  {
   "cell_type": "code",
   "execution_count": 57,
   "id": "b40a5a29",
   "metadata": {},
   "outputs": [
    {
     "data": {
      "text/plain": [
       "['wine_quality.pkl']"
      ]
     },
     "execution_count": 57,
     "metadata": {},
     "output_type": "execute_result"
    }
   ],
   "source": [
    "import joblib\n",
    "joblib.dump(GCV.best_estimator_,\"wine_quality.pkl\")"
   ]
  },
  {
   "cell_type": "code",
   "execution_count": null,
   "id": "6a0a09e0",
   "metadata": {},
   "outputs": [],
   "source": []
  }
 ],
 "metadata": {
  "kernelspec": {
   "display_name": "Python 3 (ipykernel)",
   "language": "python",
   "name": "python3"
  },
  "language_info": {
   "codemirror_mode": {
    "name": "ipython",
    "version": 3
   },
   "file_extension": ".py",
   "mimetype": "text/x-python",
   "name": "python",
   "nbconvert_exporter": "python",
   "pygments_lexer": "ipython3",
   "version": "3.9.13"
  }
 },
 "nbformat": 4,
 "nbformat_minor": 5
}
